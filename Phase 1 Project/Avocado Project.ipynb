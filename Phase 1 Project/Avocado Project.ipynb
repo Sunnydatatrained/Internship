{
 "cells": [
  {
   "cell_type": "code",
   "execution_count": 60,
   "id": "43d96067",
   "metadata": {},
   "outputs": [],
   "source": [
    "import pandas as pd\n",
    "from sklearn.model_selection import train_test_split\n",
    "from sklearn.linear_model import LogisticRegression\n",
    "from sklearn.metrics import accuracy_score, classification_report\n",
    "from sklearn.linear_model import LinearRegression\n",
    "from sklearn.metrics import mean_absolute_error, mean_squared_error, r2_score\n",
    "import warnings\n",
    "warnings.filterwarnings('ignore')"
   ]
  },
  {
   "cell_type": "code",
   "execution_count": 46,
   "id": "3c17753d",
   "metadata": {},
   "outputs": [],
   "source": [
    "# Load the dataset\n",
    "url = \"https://github.com/dsrscientist/Data-Science-ML-Capstone-Projects/raw/master/avocado.csv.zip\"\n",
    "df = pd.read_csv(url)"
   ]
  },
  {
   "cell_type": "code",
   "execution_count": 47,
   "id": "f28df486",
   "metadata": {},
   "outputs": [
    {
     "data": {
      "text/html": [
       "<div>\n",
       "<style scoped>\n",
       "    .dataframe tbody tr th:only-of-type {\n",
       "        vertical-align: middle;\n",
       "    }\n",
       "\n",
       "    .dataframe tbody tr th {\n",
       "        vertical-align: top;\n",
       "    }\n",
       "\n",
       "    .dataframe thead th {\n",
       "        text-align: right;\n",
       "    }\n",
       "</style>\n",
       "<table border=\"1\" class=\"dataframe\">\n",
       "  <thead>\n",
       "    <tr style=\"text-align: right;\">\n",
       "      <th></th>\n",
       "      <th>Unnamed: 0</th>\n",
       "      <th>Date</th>\n",
       "      <th>AveragePrice</th>\n",
       "      <th>Total Volume</th>\n",
       "      <th>4046</th>\n",
       "      <th>4225</th>\n",
       "      <th>4770</th>\n",
       "      <th>Total Bags</th>\n",
       "      <th>Small Bags</th>\n",
       "      <th>Large Bags</th>\n",
       "      <th>XLarge Bags</th>\n",
       "      <th>type</th>\n",
       "      <th>year</th>\n",
       "      <th>region</th>\n",
       "    </tr>\n",
       "  </thead>\n",
       "  <tbody>\n",
       "    <tr>\n",
       "      <th>0</th>\n",
       "      <td>0</td>\n",
       "      <td>2015-12-27</td>\n",
       "      <td>1.33</td>\n",
       "      <td>64236.62</td>\n",
       "      <td>1036.74</td>\n",
       "      <td>54454.85</td>\n",
       "      <td>48.16</td>\n",
       "      <td>8696.87</td>\n",
       "      <td>8603.62</td>\n",
       "      <td>93.25</td>\n",
       "      <td>0.0</td>\n",
       "      <td>conventional</td>\n",
       "      <td>2015</td>\n",
       "      <td>Albany</td>\n",
       "    </tr>\n",
       "    <tr>\n",
       "      <th>1</th>\n",
       "      <td>1</td>\n",
       "      <td>2015-12-20</td>\n",
       "      <td>1.35</td>\n",
       "      <td>54876.98</td>\n",
       "      <td>674.28</td>\n",
       "      <td>44638.81</td>\n",
       "      <td>58.33</td>\n",
       "      <td>9505.56</td>\n",
       "      <td>9408.07</td>\n",
       "      <td>97.49</td>\n",
       "      <td>0.0</td>\n",
       "      <td>conventional</td>\n",
       "      <td>2015</td>\n",
       "      <td>Albany</td>\n",
       "    </tr>\n",
       "    <tr>\n",
       "      <th>2</th>\n",
       "      <td>2</td>\n",
       "      <td>2015-12-13</td>\n",
       "      <td>0.93</td>\n",
       "      <td>118220.22</td>\n",
       "      <td>794.70</td>\n",
       "      <td>109149.67</td>\n",
       "      <td>130.50</td>\n",
       "      <td>8145.35</td>\n",
       "      <td>8042.21</td>\n",
       "      <td>103.14</td>\n",
       "      <td>0.0</td>\n",
       "      <td>conventional</td>\n",
       "      <td>2015</td>\n",
       "      <td>Albany</td>\n",
       "    </tr>\n",
       "    <tr>\n",
       "      <th>3</th>\n",
       "      <td>3</td>\n",
       "      <td>2015-12-06</td>\n",
       "      <td>1.08</td>\n",
       "      <td>78992.15</td>\n",
       "      <td>1132.00</td>\n",
       "      <td>71976.41</td>\n",
       "      <td>72.58</td>\n",
       "      <td>5811.16</td>\n",
       "      <td>5677.40</td>\n",
       "      <td>133.76</td>\n",
       "      <td>0.0</td>\n",
       "      <td>conventional</td>\n",
       "      <td>2015</td>\n",
       "      <td>Albany</td>\n",
       "    </tr>\n",
       "    <tr>\n",
       "      <th>4</th>\n",
       "      <td>4</td>\n",
       "      <td>2015-11-29</td>\n",
       "      <td>1.28</td>\n",
       "      <td>51039.60</td>\n",
       "      <td>941.48</td>\n",
       "      <td>43838.39</td>\n",
       "      <td>75.78</td>\n",
       "      <td>6183.95</td>\n",
       "      <td>5986.26</td>\n",
       "      <td>197.69</td>\n",
       "      <td>0.0</td>\n",
       "      <td>conventional</td>\n",
       "      <td>2015</td>\n",
       "      <td>Albany</td>\n",
       "    </tr>\n",
       "    <tr>\n",
       "      <th>...</th>\n",
       "      <td>...</td>\n",
       "      <td>...</td>\n",
       "      <td>...</td>\n",
       "      <td>...</td>\n",
       "      <td>...</td>\n",
       "      <td>...</td>\n",
       "      <td>...</td>\n",
       "      <td>...</td>\n",
       "      <td>...</td>\n",
       "      <td>...</td>\n",
       "      <td>...</td>\n",
       "      <td>...</td>\n",
       "      <td>...</td>\n",
       "      <td>...</td>\n",
       "    </tr>\n",
       "    <tr>\n",
       "      <th>18244</th>\n",
       "      <td>7</td>\n",
       "      <td>2018-02-04</td>\n",
       "      <td>1.63</td>\n",
       "      <td>17074.83</td>\n",
       "      <td>2046.96</td>\n",
       "      <td>1529.20</td>\n",
       "      <td>0.00</td>\n",
       "      <td>13498.67</td>\n",
       "      <td>13066.82</td>\n",
       "      <td>431.85</td>\n",
       "      <td>0.0</td>\n",
       "      <td>organic</td>\n",
       "      <td>2018</td>\n",
       "      <td>WestTexNewMexico</td>\n",
       "    </tr>\n",
       "    <tr>\n",
       "      <th>18245</th>\n",
       "      <td>8</td>\n",
       "      <td>2018-01-28</td>\n",
       "      <td>1.71</td>\n",
       "      <td>13888.04</td>\n",
       "      <td>1191.70</td>\n",
       "      <td>3431.50</td>\n",
       "      <td>0.00</td>\n",
       "      <td>9264.84</td>\n",
       "      <td>8940.04</td>\n",
       "      <td>324.80</td>\n",
       "      <td>0.0</td>\n",
       "      <td>organic</td>\n",
       "      <td>2018</td>\n",
       "      <td>WestTexNewMexico</td>\n",
       "    </tr>\n",
       "    <tr>\n",
       "      <th>18246</th>\n",
       "      <td>9</td>\n",
       "      <td>2018-01-21</td>\n",
       "      <td>1.87</td>\n",
       "      <td>13766.76</td>\n",
       "      <td>1191.92</td>\n",
       "      <td>2452.79</td>\n",
       "      <td>727.94</td>\n",
       "      <td>9394.11</td>\n",
       "      <td>9351.80</td>\n",
       "      <td>42.31</td>\n",
       "      <td>0.0</td>\n",
       "      <td>organic</td>\n",
       "      <td>2018</td>\n",
       "      <td>WestTexNewMexico</td>\n",
       "    </tr>\n",
       "    <tr>\n",
       "      <th>18247</th>\n",
       "      <td>10</td>\n",
       "      <td>2018-01-14</td>\n",
       "      <td>1.93</td>\n",
       "      <td>16205.22</td>\n",
       "      <td>1527.63</td>\n",
       "      <td>2981.04</td>\n",
       "      <td>727.01</td>\n",
       "      <td>10969.54</td>\n",
       "      <td>10919.54</td>\n",
       "      <td>50.00</td>\n",
       "      <td>0.0</td>\n",
       "      <td>organic</td>\n",
       "      <td>2018</td>\n",
       "      <td>WestTexNewMexico</td>\n",
       "    </tr>\n",
       "    <tr>\n",
       "      <th>18248</th>\n",
       "      <td>11</td>\n",
       "      <td>2018-01-07</td>\n",
       "      <td>1.62</td>\n",
       "      <td>17489.58</td>\n",
       "      <td>2894.77</td>\n",
       "      <td>2356.13</td>\n",
       "      <td>224.53</td>\n",
       "      <td>12014.15</td>\n",
       "      <td>11988.14</td>\n",
       "      <td>26.01</td>\n",
       "      <td>0.0</td>\n",
       "      <td>organic</td>\n",
       "      <td>2018</td>\n",
       "      <td>WestTexNewMexico</td>\n",
       "    </tr>\n",
       "  </tbody>\n",
       "</table>\n",
       "<p>18249 rows × 14 columns</p>\n",
       "</div>"
      ],
      "text/plain": [
       "       Unnamed: 0        Date  AveragePrice  Total Volume     4046       4225  \\\n",
       "0               0  2015-12-27          1.33      64236.62  1036.74   54454.85   \n",
       "1               1  2015-12-20          1.35      54876.98   674.28   44638.81   \n",
       "2               2  2015-12-13          0.93     118220.22   794.70  109149.67   \n",
       "3               3  2015-12-06          1.08      78992.15  1132.00   71976.41   \n",
       "4               4  2015-11-29          1.28      51039.60   941.48   43838.39   \n",
       "...           ...         ...           ...           ...      ...        ...   \n",
       "18244           7  2018-02-04          1.63      17074.83  2046.96    1529.20   \n",
       "18245           8  2018-01-28          1.71      13888.04  1191.70    3431.50   \n",
       "18246           9  2018-01-21          1.87      13766.76  1191.92    2452.79   \n",
       "18247          10  2018-01-14          1.93      16205.22  1527.63    2981.04   \n",
       "18248          11  2018-01-07          1.62      17489.58  2894.77    2356.13   \n",
       "\n",
       "         4770  Total Bags  Small Bags  Large Bags  XLarge Bags          type  \\\n",
       "0       48.16     8696.87     8603.62       93.25          0.0  conventional   \n",
       "1       58.33     9505.56     9408.07       97.49          0.0  conventional   \n",
       "2      130.50     8145.35     8042.21      103.14          0.0  conventional   \n",
       "3       72.58     5811.16     5677.40      133.76          0.0  conventional   \n",
       "4       75.78     6183.95     5986.26      197.69          0.0  conventional   \n",
       "...       ...         ...         ...         ...          ...           ...   \n",
       "18244    0.00    13498.67    13066.82      431.85          0.0       organic   \n",
       "18245    0.00     9264.84     8940.04      324.80          0.0       organic   \n",
       "18246  727.94     9394.11     9351.80       42.31          0.0       organic   \n",
       "18247  727.01    10969.54    10919.54       50.00          0.0       organic   \n",
       "18248  224.53    12014.15    11988.14       26.01          0.0       organic   \n",
       "\n",
       "       year            region  \n",
       "0      2015            Albany  \n",
       "1      2015            Albany  \n",
       "2      2015            Albany  \n",
       "3      2015            Albany  \n",
       "4      2015            Albany  \n",
       "...     ...               ...  \n",
       "18244  2018  WestTexNewMexico  \n",
       "18245  2018  WestTexNewMexico  \n",
       "18246  2018  WestTexNewMexico  \n",
       "18247  2018  WestTexNewMexico  \n",
       "18248  2018  WestTexNewMexico  \n",
       "\n",
       "[18249 rows x 14 columns]"
      ]
     },
     "execution_count": 47,
     "metadata": {},
     "output_type": "execute_result"
    }
   ],
   "source": [
    "df"
   ]
  },
  {
   "cell_type": "code",
   "execution_count": 49,
   "id": "d3261041",
   "metadata": {},
   "outputs": [],
   "source": [
    "# Classification Task: Predict Region\n",
    "# Define target variable for classification\n",
    "y_classif = df['region']"
   ]
  },
  {
   "cell_type": "code",
   "execution_count": 51,
   "id": "881c21b1",
   "metadata": {},
   "outputs": [],
   "source": [
    "# Drop columns not needed for classification\n",
    "X_classif = df.drop(columns=['region', 'Date'])"
   ]
  },
  {
   "cell_type": "code",
   "execution_count": 52,
   "id": "ad4fb889",
   "metadata": {},
   "outputs": [],
   "source": [
    "# Encode categorical variables for classification\n",
    "X_classif = pd.get_dummies(X_classif, columns=['type', 'year'], drop_first=True)"
   ]
  },
  {
   "cell_type": "code",
   "execution_count": 53,
   "id": "5a2908b1",
   "metadata": {},
   "outputs": [],
   "source": [
    "# Split the data into training and testing sets for classification\n",
    "X_train_classif, X_test_classif, y_train_classif, y_test_classif = train_test_split(X_classif, y_classif, test_size=0.2, random_state=42)"
   ]
  },
  {
   "cell_type": "code",
   "execution_count": 61,
   "id": "f8acc3f3",
   "metadata": {},
   "outputs": [
    {
     "data": {
      "text/plain": [
       "LogisticRegression()"
      ]
     },
     "execution_count": 61,
     "metadata": {},
     "output_type": "execute_result"
    }
   ],
   "source": [
    "# Choose and train a classification model\n",
    "clf = LogisticRegression()\n",
    "clf.fit(X_train_classif, y_train_classif)"
   ]
  },
  {
   "cell_type": "code",
   "execution_count": 55,
   "id": "23a7046d",
   "metadata": {},
   "outputs": [],
   "source": [
    "# Make predictions for classification\n",
    "y_pred_classif = clf.predict(X_test_classif)\n"
   ]
  },
  {
   "cell_type": "code",
   "execution_count": 56,
   "id": "74adcbb9",
   "metadata": {},
   "outputs": [
    {
     "data": {
      "text/plain": [
       "array(['Southeast', 'Southeast', 'LosAngeles', ..., 'PhoenixTucson',\n",
       "       'Seattle', 'Seattle'], dtype=object)"
      ]
     },
     "execution_count": 56,
     "metadata": {},
     "output_type": "execute_result"
    }
   ],
   "source": [
    "y_pred_classif"
   ]
  },
  {
   "cell_type": "code",
   "execution_count": 62,
   "id": "368209f7",
   "metadata": {},
   "outputs": [],
   "source": [
    "# Evaluate the classification model\n",
    "accuracy_classif = accuracy_score(y_test_classif, y_pred_classif)\n",
    "report_classif = classification_report(y_test_classif, y_pred_classif)"
   ]
  },
  {
   "cell_type": "code",
   "execution_count": 63,
   "id": "1fbb6d8b",
   "metadata": {},
   "outputs": [
    {
     "name": "stdout",
     "output_type": "stream",
     "text": [
      "Classification Task Results:\n",
      "Classification Model Accuracy: 0.12602739726027398\n",
      "                     precision    recall  f1-score   support\n",
      "\n",
      "             Albany       0.00      0.00      0.00        63\n",
      "            Atlanta       1.00      0.01      0.03        73\n",
      "BaltimoreWashington       0.51      0.43      0.46        61\n",
      "              Boise       0.00      0.00      0.00        72\n",
      "             Boston       0.06      0.06      0.06        67\n",
      "   BuffaloRochester       0.00      0.00      0.00        73\n",
      "         California       0.12      0.34      0.18        62\n",
      "          Charlotte       0.00      0.00      0.00        76\n",
      "            Chicago       0.62      0.60      0.61        72\n",
      "   CincinnatiDayton       0.00      0.00      0.00        65\n",
      "           Columbus       0.00      0.00      0.00        65\n",
      "      DallasFtWorth       0.00      0.00      0.00        68\n",
      "             Denver       0.07      0.45      0.13        65\n",
      "            Detroit       0.38      0.18      0.24        66\n",
      "        GrandRapids       0.00      0.00      0.00        71\n",
      "         GreatLakes       0.12      0.54      0.20        69\n",
      " HarrisburgScranton       0.00      0.00      0.00        71\n",
      "HartfordSpringfield       0.00      0.00      0.00        69\n",
      "            Houston       0.04      0.01      0.02        67\n",
      "       Indianapolis       0.00      0.00      0.00        63\n",
      "       Jacksonville       0.00      0.00      0.00        68\n",
      "           LasVegas       0.00      0.00      0.00        65\n",
      "         LosAngeles       0.08      0.27      0.12        70\n",
      "         Louisville       0.00      0.00      0.00        68\n",
      "  MiamiFtLauderdale       0.00      0.00      0.00        68\n",
      "           Midsouth       0.19      0.55      0.28        62\n",
      "          Nashville       0.00      0.00      0.00        70\n",
      "   NewOrleansMobile       0.00      0.00      0.00        73\n",
      "            NewYork       0.00      0.00      0.00        66\n",
      "          Northeast       0.08      0.44      0.13        75\n",
      " NorthernNewEngland       0.12      0.07      0.09        58\n",
      "            Orlando       0.00      0.00      0.00        69\n",
      "       Philadelphia       0.33      0.03      0.05        73\n",
      "      PhoenixTucson       0.33      0.13      0.19        52\n",
      "         Pittsburgh       0.00      0.00      0.00        63\n",
      "             Plains       0.43      0.11      0.18        80\n",
      "           Portland       0.20      0.05      0.09        74\n",
      "  RaleighGreensboro       0.00      0.00      0.00        61\n",
      "    RichmondNorfolk       0.00      0.00      0.00        69\n",
      "            Roanoke       0.00      0.00      0.00        59\n",
      "         Sacramento       0.25      0.07      0.11        72\n",
      "           SanDiego       0.00      0.00      0.00        79\n",
      "       SanFrancisco       0.21      0.61      0.32        70\n",
      "            Seattle       0.01      0.10      0.02        60\n",
      "      SouthCarolina       0.00      0.00      0.00        67\n",
      "       SouthCentral       0.12      0.35      0.17        60\n",
      "          Southeast       0.06      0.30      0.11        64\n",
      "            Spokane       0.00      0.00      0.00        77\n",
      "            StLouis       0.00      0.00      0.00        67\n",
      "           Syracuse       0.00      0.00      0.00        70\n",
      "              Tampa       0.00      0.00      0.00        72\n",
      "            TotalUS       0.32      0.57      0.41        67\n",
      "               West       0.29      0.54      0.37        65\n",
      "   WestTexNewMexico       0.10      0.12      0.11        59\n",
      "\n",
      "           accuracy                           0.13      3650\n",
      "          macro avg       0.11      0.13      0.09      3650\n",
      "       weighted avg       0.11      0.13      0.09      3650\n",
      "\n"
     ]
    }
   ],
   "source": [
    "print(\"Classification Task Results:\")\n",
    "print(f'Classification Model Accuracy: {accuracy_classif}')\n",
    "print(report_classif)"
   ]
  },
  {
   "cell_type": "markdown",
   "id": "b2e242d4",
   "metadata": {},
   "source": [
    "# Regression Task: Predict Average Price"
   ]
  },
  {
   "cell_type": "code",
   "execution_count": 64,
   "id": "cf8e8026",
   "metadata": {},
   "outputs": [],
   "source": [
    "# Define target variable for regression\n",
    "y_reg = df['AveragePrice']"
   ]
  },
  {
   "cell_type": "code",
   "execution_count": 65,
   "id": "909daf70",
   "metadata": {},
   "outputs": [],
   "source": [
    "# Drop columns not needed for regression\n",
    "X_reg = df.drop(columns=['AveragePrice', 'Date'])"
   ]
  },
  {
   "cell_type": "code",
   "execution_count": 67,
   "id": "a2e47317",
   "metadata": {},
   "outputs": [],
   "source": [
    "# Encode categorical variables for regression\n",
    "X_reg = pd.get_dummies(X_reg, columns=['type', 'year', 'region'], drop_first=True)"
   ]
  },
  {
   "cell_type": "code",
   "execution_count": 68,
   "id": "6cd27239",
   "metadata": {},
   "outputs": [],
   "source": [
    "# Split the data into training and testing sets for regression\n",
    "X_train_reg, X_test_reg, y_train_reg, y_test_reg = train_test_split(X_reg, y_reg, test_size=0.2, random_state=42)"
   ]
  },
  {
   "cell_type": "code",
   "execution_count": 69,
   "id": "c754d925",
   "metadata": {},
   "outputs": [
    {
     "data": {
      "text/plain": [
       "LinearRegression()"
      ]
     },
     "execution_count": 69,
     "metadata": {},
     "output_type": "execute_result"
    }
   ],
   "source": [
    "# Choose and train a regression model\n",
    "reg = LinearRegression()\n",
    "reg.fit(X_train_reg, y_train_reg)"
   ]
  },
  {
   "cell_type": "code",
   "execution_count": 70,
   "id": "3a91cc06",
   "metadata": {},
   "outputs": [],
   "source": [
    "# Make predictions for regression\n",
    "y_pred_reg = reg.predict(X_test_reg)"
   ]
  },
  {
   "cell_type": "code",
   "execution_count": 71,
   "id": "53650485",
   "metadata": {},
   "outputs": [],
   "source": [
    "# Evaluate the regression model\n",
    "mae_reg = mean_absolute_error(y_test_reg, y_pred_reg)\n",
    "mse_reg = mean_squared_error(y_test_reg, y_pred_reg)\n",
    "r2_reg = r2_score(y_test_reg, y_pred_reg)"
   ]
  },
  {
   "cell_type": "code",
   "execution_count": 72,
   "id": "500e3484",
   "metadata": {},
   "outputs": [
    {
     "name": "stdout",
     "output_type": "stream",
     "text": [
      "\n",
      "Regression Task Results:\n",
      "Mean Absolute Error: 0.18797991755848695\n",
      "Mean Squared Error: 0.06256052409477293\n",
      "R-squared: 0.610625001382063\n"
     ]
    }
   ],
   "source": [
    "print(\"\\nRegression Task Results:\")\n",
    "print(f'Mean Absolute Error: {mae_reg}')\n",
    "print(f'Mean Squared Error: {mse_reg}')\n",
    "print(f'R-squared: {r2_reg}')"
   ]
  },
  {
   "cell_type": "code",
   "execution_count": null,
   "id": "03f9b026",
   "metadata": {},
   "outputs": [],
   "source": []
  },
  {
   "cell_type": "code",
   "execution_count": null,
   "id": "dd60e42c",
   "metadata": {},
   "outputs": [],
   "source": []
  },
  {
   "cell_type": "code",
   "execution_count": null,
   "id": "72b20595",
   "metadata": {},
   "outputs": [],
   "source": []
  }
 ],
 "metadata": {
  "kernelspec": {
   "display_name": "Python 3 (ipykernel)",
   "language": "python",
   "name": "python3"
  },
  "language_info": {
   "codemirror_mode": {
    "name": "ipython",
    "version": 3
   },
   "file_extension": ".py",
   "mimetype": "text/x-python",
   "name": "python",
   "nbconvert_exporter": "python",
   "pygments_lexer": "ipython3",
   "version": "3.9.13"
  }
 },
 "nbformat": 4,
 "nbformat_minor": 5
}
