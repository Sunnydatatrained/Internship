{
 "cells": [
  {
   "cell_type": "code",
   "execution_count": 2,
   "id": "4c26094e",
   "metadata": {},
   "outputs": [],
   "source": [
    "import pandas as pd\n",
    "from sklearn.model_selection import train_test_split\n",
    "from sklearn.preprocessing import StandardScaler\n",
    "from sklearn.ensemble import RandomForestClassifier\n",
    "from sklearn.metrics import accuracy_score, classification_report\n",
    "import matplotlib.pyplot as plt\n",
    "import seaborn as sns\n",
    "import warnings\n",
    "warnings.filterwarnings('ignore')"
   ]
  },
  {
   "cell_type": "code",
   "execution_count": 6,
   "id": "79c31e96",
   "metadata": {},
   "outputs": [],
   "source": [
    "url=\"https://raw.githubusercontent.com/dsrscientist/dataset3/main/glass.csv\"\n",
    "data=pd.read_csv(url)"
   ]
  },
  {
   "cell_type": "code",
   "execution_count": 7,
   "id": "11993a2a",
   "metadata": {},
   "outputs": [
    {
     "data": {
      "text/html": [
       "<div>\n",
       "<style scoped>\n",
       "    .dataframe tbody tr th:only-of-type {\n",
       "        vertical-align: middle;\n",
       "    }\n",
       "\n",
       "    .dataframe tbody tr th {\n",
       "        vertical-align: top;\n",
       "    }\n",
       "\n",
       "    .dataframe thead th {\n",
       "        text-align: right;\n",
       "    }\n",
       "</style>\n",
       "<table border=\"1\" class=\"dataframe\">\n",
       "  <thead>\n",
       "    <tr style=\"text-align: right;\">\n",
       "      <th></th>\n",
       "      <th>1</th>\n",
       "      <th>1.52101</th>\n",
       "      <th>13.64</th>\n",
       "      <th>4.49</th>\n",
       "      <th>1.10</th>\n",
       "      <th>71.78</th>\n",
       "      <th>0.06</th>\n",
       "      <th>8.75</th>\n",
       "      <th>0.00</th>\n",
       "      <th>0.00.1</th>\n",
       "      <th>1.1</th>\n",
       "    </tr>\n",
       "  </thead>\n",
       "  <tbody>\n",
       "    <tr>\n",
       "      <th>0</th>\n",
       "      <td>2</td>\n",
       "      <td>1.51761</td>\n",
       "      <td>13.89</td>\n",
       "      <td>3.60</td>\n",
       "      <td>1.36</td>\n",
       "      <td>72.73</td>\n",
       "      <td>0.48</td>\n",
       "      <td>7.83</td>\n",
       "      <td>0.00</td>\n",
       "      <td>0.00</td>\n",
       "      <td>1</td>\n",
       "    </tr>\n",
       "    <tr>\n",
       "      <th>1</th>\n",
       "      <td>3</td>\n",
       "      <td>1.51618</td>\n",
       "      <td>13.53</td>\n",
       "      <td>3.55</td>\n",
       "      <td>1.54</td>\n",
       "      <td>72.99</td>\n",
       "      <td>0.39</td>\n",
       "      <td>7.78</td>\n",
       "      <td>0.00</td>\n",
       "      <td>0.00</td>\n",
       "      <td>1</td>\n",
       "    </tr>\n",
       "    <tr>\n",
       "      <th>2</th>\n",
       "      <td>4</td>\n",
       "      <td>1.51766</td>\n",
       "      <td>13.21</td>\n",
       "      <td>3.69</td>\n",
       "      <td>1.29</td>\n",
       "      <td>72.61</td>\n",
       "      <td>0.57</td>\n",
       "      <td>8.22</td>\n",
       "      <td>0.00</td>\n",
       "      <td>0.00</td>\n",
       "      <td>1</td>\n",
       "    </tr>\n",
       "    <tr>\n",
       "      <th>3</th>\n",
       "      <td>5</td>\n",
       "      <td>1.51742</td>\n",
       "      <td>13.27</td>\n",
       "      <td>3.62</td>\n",
       "      <td>1.24</td>\n",
       "      <td>73.08</td>\n",
       "      <td>0.55</td>\n",
       "      <td>8.07</td>\n",
       "      <td>0.00</td>\n",
       "      <td>0.00</td>\n",
       "      <td>1</td>\n",
       "    </tr>\n",
       "    <tr>\n",
       "      <th>4</th>\n",
       "      <td>6</td>\n",
       "      <td>1.51596</td>\n",
       "      <td>12.79</td>\n",
       "      <td>3.61</td>\n",
       "      <td>1.62</td>\n",
       "      <td>72.97</td>\n",
       "      <td>0.64</td>\n",
       "      <td>8.07</td>\n",
       "      <td>0.00</td>\n",
       "      <td>0.26</td>\n",
       "      <td>1</td>\n",
       "    </tr>\n",
       "    <tr>\n",
       "      <th>...</th>\n",
       "      <td>...</td>\n",
       "      <td>...</td>\n",
       "      <td>...</td>\n",
       "      <td>...</td>\n",
       "      <td>...</td>\n",
       "      <td>...</td>\n",
       "      <td>...</td>\n",
       "      <td>...</td>\n",
       "      <td>...</td>\n",
       "      <td>...</td>\n",
       "      <td>...</td>\n",
       "    </tr>\n",
       "    <tr>\n",
       "      <th>208</th>\n",
       "      <td>210</td>\n",
       "      <td>1.51623</td>\n",
       "      <td>14.14</td>\n",
       "      <td>0.00</td>\n",
       "      <td>2.88</td>\n",
       "      <td>72.61</td>\n",
       "      <td>0.08</td>\n",
       "      <td>9.18</td>\n",
       "      <td>1.06</td>\n",
       "      <td>0.00</td>\n",
       "      <td>7</td>\n",
       "    </tr>\n",
       "    <tr>\n",
       "      <th>209</th>\n",
       "      <td>211</td>\n",
       "      <td>1.51685</td>\n",
       "      <td>14.92</td>\n",
       "      <td>0.00</td>\n",
       "      <td>1.99</td>\n",
       "      <td>73.06</td>\n",
       "      <td>0.00</td>\n",
       "      <td>8.40</td>\n",
       "      <td>1.59</td>\n",
       "      <td>0.00</td>\n",
       "      <td>7</td>\n",
       "    </tr>\n",
       "    <tr>\n",
       "      <th>210</th>\n",
       "      <td>212</td>\n",
       "      <td>1.52065</td>\n",
       "      <td>14.36</td>\n",
       "      <td>0.00</td>\n",
       "      <td>2.02</td>\n",
       "      <td>73.42</td>\n",
       "      <td>0.00</td>\n",
       "      <td>8.44</td>\n",
       "      <td>1.64</td>\n",
       "      <td>0.00</td>\n",
       "      <td>7</td>\n",
       "    </tr>\n",
       "    <tr>\n",
       "      <th>211</th>\n",
       "      <td>213</td>\n",
       "      <td>1.51651</td>\n",
       "      <td>14.38</td>\n",
       "      <td>0.00</td>\n",
       "      <td>1.94</td>\n",
       "      <td>73.61</td>\n",
       "      <td>0.00</td>\n",
       "      <td>8.48</td>\n",
       "      <td>1.57</td>\n",
       "      <td>0.00</td>\n",
       "      <td>7</td>\n",
       "    </tr>\n",
       "    <tr>\n",
       "      <th>212</th>\n",
       "      <td>214</td>\n",
       "      <td>1.51711</td>\n",
       "      <td>14.23</td>\n",
       "      <td>0.00</td>\n",
       "      <td>2.08</td>\n",
       "      <td>73.36</td>\n",
       "      <td>0.00</td>\n",
       "      <td>8.62</td>\n",
       "      <td>1.67</td>\n",
       "      <td>0.00</td>\n",
       "      <td>7</td>\n",
       "    </tr>\n",
       "  </tbody>\n",
       "</table>\n",
       "<p>213 rows × 11 columns</p>\n",
       "</div>"
      ],
      "text/plain": [
       "       1  1.52101  13.64  4.49  1.10  71.78  0.06  8.75  0.00  0.00.1  1.1\n",
       "0      2  1.51761  13.89  3.60  1.36  72.73  0.48  7.83  0.00    0.00    1\n",
       "1      3  1.51618  13.53  3.55  1.54  72.99  0.39  7.78  0.00    0.00    1\n",
       "2      4  1.51766  13.21  3.69  1.29  72.61  0.57  8.22  0.00    0.00    1\n",
       "3      5  1.51742  13.27  3.62  1.24  73.08  0.55  8.07  0.00    0.00    1\n",
       "4      6  1.51596  12.79  3.61  1.62  72.97  0.64  8.07  0.00    0.26    1\n",
       "..   ...      ...    ...   ...   ...    ...   ...   ...   ...     ...  ...\n",
       "208  210  1.51623  14.14  0.00  2.88  72.61  0.08  9.18  1.06    0.00    7\n",
       "209  211  1.51685  14.92  0.00  1.99  73.06  0.00  8.40  1.59    0.00    7\n",
       "210  212  1.52065  14.36  0.00  2.02  73.42  0.00  8.44  1.64    0.00    7\n",
       "211  213  1.51651  14.38  0.00  1.94  73.61  0.00  8.48  1.57    0.00    7\n",
       "212  214  1.51711  14.23  0.00  2.08  73.36  0.00  8.62  1.67    0.00    7\n",
       "\n",
       "[213 rows x 11 columns]"
      ]
     },
     "execution_count": 7,
     "metadata": {},
     "output_type": "execute_result"
    }
   ],
   "source": [
    "data"
   ]
  },
  {
   "cell_type": "code",
   "execution_count": 9,
   "id": "dc087a84",
   "metadata": {},
   "outputs": [
    {
     "name": "stdout",
     "output_type": "stream",
     "text": [
      "<class 'pandas.core.frame.DataFrame'>\n",
      "RangeIndex: 213 entries, 0 to 212\n",
      "Data columns (total 11 columns):\n",
      " #   Column   Non-Null Count  Dtype  \n",
      "---  ------   --------------  -----  \n",
      " 0   1        213 non-null    int64  \n",
      " 1   1.52101  213 non-null    float64\n",
      " 2   13.64    213 non-null    float64\n",
      " 3   4.49     213 non-null    float64\n",
      " 4   1.10     213 non-null    float64\n",
      " 5   71.78    213 non-null    float64\n",
      " 6   0.06     213 non-null    float64\n",
      " 7   8.75     213 non-null    float64\n",
      " 8   0.00     213 non-null    float64\n",
      " 9   0.00.1   213 non-null    float64\n",
      " 10  1.1      213 non-null    int64  \n",
      "dtypes: float64(9), int64(2)\n",
      "memory usage: 18.4 KB\n"
     ]
    }
   ],
   "source": [
    "data.info()"
   ]
  },
  {
   "cell_type": "code",
   "execution_count": 12,
   "id": "7e8ebb4a",
   "metadata": {},
   "outputs": [
    {
     "data": {
      "text/plain": [
       "Index(['1', '1.52101', '13.64', '4.49', '1.10', '71.78', '0.06', '8.75',\n",
       "       '0.00', '0.00.1', '1.1'],\n",
       "      dtype='object')"
      ]
     },
     "execution_count": 12,
     "metadata": {},
     "output_type": "execute_result"
    }
   ],
   "source": [
    "data.columns"
   ]
  },
  {
   "cell_type": "code",
   "execution_count": 13,
   "id": "8014f1fe",
   "metadata": {},
   "outputs": [
    {
     "name": "stdout",
     "output_type": "stream",
     "text": [
      "1          0\n",
      "1.52101    0\n",
      "13.64      0\n",
      "4.49       0\n",
      "1.10       0\n",
      "71.78      0\n",
      "0.06       0\n",
      "8.75       0\n",
      "0.00       0\n",
      "0.00.1     0\n",
      "1.1        0\n",
      "dtype: int64\n"
     ]
    }
   ],
   "source": [
    "# Check for missing values\n",
    "print(data.isnull().sum())"
   ]
  },
  {
   "cell_type": "code",
   "execution_count": 28,
   "id": "e32543ab",
   "metadata": {},
   "outputs": [],
   "source": [
    "# Split the data into features and target\n",
    "X = data.drop(\"1.1\", axis=1)\n",
    "y = data[\"1.1\"]"
   ]
  },
  {
   "cell_type": "code",
   "execution_count": 16,
   "id": "345a8ae7",
   "metadata": {},
   "outputs": [],
   "source": [
    "# Split the data into training and testing sets\n",
    "X_train, X_test, y_train, y_test = train_test_split(X, y, test_size=0.2, random_state=42)"
   ]
  },
  {
   "cell_type": "code",
   "execution_count": 17,
   "id": "62edeba0",
   "metadata": {},
   "outputs": [],
   "source": [
    "# Feature scaling\n",
    "scaler = StandardScaler()\n",
    "X_train_scaled = scaler.fit_transform(X_train)\n",
    "X_test_scaled = scaler.transform(X_test)"
   ]
  },
  {
   "cell_type": "code",
   "execution_count": 18,
   "id": "58330724",
   "metadata": {},
   "outputs": [
    {
     "data": {
      "text/plain": [
       "RandomForestClassifier(random_state=42)"
      ]
     },
     "execution_count": 18,
     "metadata": {},
     "output_type": "execute_result"
    }
   ],
   "source": [
    "# Train a Random Forest Classifier\n",
    "clf = RandomForestClassifier(random_state=42)\n",
    "clf.fit(X_train_scaled, y_train)"
   ]
  },
  {
   "cell_type": "code",
   "execution_count": 27,
   "id": "718aa737",
   "metadata": {},
   "outputs": [
    {
     "name": "stdout",
     "output_type": "stream",
     "text": [
      "Accuracy: 0.9767441860465116\n"
     ]
    }
   ],
   "source": [
    "# Evaluate the model\n",
    "y_pred = clf.predict(X_test_scaled)\n",
    "accuracy = accuracy_score(y_test, y_pred)\n",
    "print(\"Accuracy:\", accuracy)"
   ]
  },
  {
   "cell_type": "code",
   "execution_count": 20,
   "id": "dbda646f",
   "metadata": {},
   "outputs": [
    {
     "name": "stdout",
     "output_type": "stream",
     "text": [
      "Classification Report:\n",
      "               precision    recall  f1-score   support\n",
      "\n",
      "           1       1.00      1.00      1.00        10\n",
      "           2       1.00      0.93      0.97        15\n",
      "           3       0.75      1.00      0.86         3\n",
      "           5       1.00      1.00      1.00         3\n",
      "           6       1.00      1.00      1.00         3\n",
      "           7       1.00      1.00      1.00         9\n",
      "\n",
      "    accuracy                           0.98        43\n",
      "   macro avg       0.96      0.99      0.97        43\n",
      "weighted avg       0.98      0.98      0.98        43\n",
      "\n"
     ]
    }
   ],
   "source": [
    "classification_rep = classification_report(y_test, y_pred)\n",
    "print(\"Classification Report:\\n\", classification_rep)"
   ]
  },
  {
   "cell_type": "code",
   "execution_count": 26,
   "id": "02ca4d69",
   "metadata": {},
   "outputs": [],
   "source": [
    "# Generate predicted values for the test set\n",
    "y_pred = clf.predict(X_test_scaled)\n"
   ]
  },
  {
   "cell_type": "code",
   "execution_count": 22,
   "id": "ef44260f",
   "metadata": {},
   "outputs": [
    {
     "data": {
      "text/plain": [
       "array([1, 7, 1, 7, 2, 2, 1, 2, 2, 3, 6, 5, 2, 2, 6, 5, 7, 1, 1, 7, 2, 7,\n",
       "       7, 7, 3, 2, 1, 1, 6, 1, 1, 2, 3, 2, 2, 7, 5, 3, 2, 2, 2, 7, 1],\n",
       "      dtype=int64)"
      ]
     },
     "execution_count": 22,
     "metadata": {},
     "output_type": "execute_result"
    }
   ],
   "source": [
    "y_pred"
   ]
  },
  {
   "cell_type": "code",
   "execution_count": 25,
   "id": "2405c3c7",
   "metadata": {},
   "outputs": [],
   "source": [
    "#Create a new DataFrame with original data and predicted values\n",
    "new_table = X_test.copy()  # Create a copy of the test data\n",
    "new_table[\"Actual Type\"] = y_test.values  # Add actual types to the new table\n",
    "new_table[\"Predicted Type\"] = y_pred  # Add predicted types to the new table"
   ]
  },
  {
   "cell_type": "code",
   "execution_count": 24,
   "id": "cddaee13",
   "metadata": {},
   "outputs": [
    {
     "name": "stdout",
     "output_type": "stream",
     "text": [
      "       1  1.52101  13.64  4.49  1.10  71.78  0.06   8.75  0.00  0.00.1  \\\n",
      "9     11  1.51571  12.72  3.46  1.56  73.20  0.67   8.09  0.00    0.24   \n",
      "197  199  1.51531  14.38  0.00  2.66  73.10  0.04   9.08  0.64    0.00   \n",
      "66    68  1.52152  13.05  3.65  0.87  72.32  0.19   9.85  0.00    0.17   \n",
      "191  193  1.51623  14.20  0.00  2.79  73.46  0.04   9.04  0.40    0.09   \n",
      "117  119  1.51673  13.30  3.64  1.53  72.53  0.65   8.03  0.00    0.29   \n",
      "111  113  1.52777  12.64  0.00  0.67  72.02  0.06  14.40  0.00    0.00   \n",
      "15    17  1.51784  12.68  3.67  1.16  73.11  0.61   8.70  0.00    0.00   \n",
      "86    88  1.51645  13.40  3.49  1.52  72.65  0.67   8.08  0.00    0.10   \n",
      "75    77  1.51645  13.44  3.61  1.54  72.39  0.66   8.03  0.00    0.00   \n",
      "144  146  1.51839  12.85  3.67  1.24  72.57  0.62   8.68  0.00    0.35   \n",
      "182  184  1.51969  14.56  0.00  0.56  73.48  0.00  11.22  0.00    0.00   \n",
      "170  172  1.51316  13.02  0.00  3.04  70.48  6.21   6.96  0.00    0.00   \n",
      "141  143  1.51662  12.85  3.51  1.44  73.01  0.68   8.23  0.06    0.25   \n",
      "73    75  1.51596  13.02  3.56  1.54  73.11  0.72   7.90  0.00    0.00   \n",
      "178  180  1.51852  14.09  2.19  1.66  72.67  0.00   9.32  0.00    0.00   \n",
      "167  169  1.51666  12.86  0.00  1.83  73.88  0.97  10.17  0.00    0.00   \n",
      "190  192  1.51602  14.85  0.00  2.38  73.28  0.00   8.76  0.64    0.09   \n",
      "18    20  1.51735  13.02  3.54  1.69  72.73  0.54   8.44  0.00    0.07   \n",
      "45    47  1.51869  13.19  3.37  1.18  72.72  0.57   8.83  0.00    0.16   \n",
      "184  186  1.51131  13.69  3.20  1.81  72.81  1.76   5.43  1.19    0.00   \n",
      "98   100  1.51811  12.96  2.96  1.43  72.92  0.60   8.79  0.14    0.00   \n",
      "208  210  1.51623  14.14  0.00  2.88  72.61  0.08   9.18  1.06    0.00   \n",
      "210  212  1.52065  14.36  0.00  2.02  73.42  0.00   8.44  1.64    0.00   \n",
      "195  197  1.51556  13.87  0.00  2.54  73.23  0.14   9.41  0.81    0.01   \n",
      "148  150  1.51643  12.16  3.52  1.35  72.89  0.57   8.53  0.00    0.00   \n",
      "104  106  1.52475  11.45  0.00  1.88  72.19  0.81  13.24  0.00    0.34   \n",
      "30    32  1.51747  12.84  3.50  1.14  73.27  0.56   8.55  0.00    0.00   \n",
      "25    27  1.51793  13.21  3.48  1.41  72.64  0.59   8.43  0.00    0.00   \n",
      "175  177  1.51905  14.00  2.39  1.56  72.37  0.00   9.57  0.00    0.00   \n",
      "16    18  1.52196  14.36  3.85  0.89  71.36  0.15   9.15  0.00    0.00   \n",
      "55    57  1.51215  12.99  3.47  1.12  72.98  0.62   8.35  0.00    0.31   \n",
      "138  140  1.51674  12.87  3.56  1.64  73.14  0.65   7.99  0.00    0.00   \n",
      "158  160  1.51796  13.50  3.36  1.63  71.94  0.57   8.81  0.00    0.09   \n",
      "93    95  1.51629  12.71  3.33  1.49  73.28  0.67   8.24  0.00    0.00   \n",
      "69    71  1.51574  14.86  3.67  1.74  71.87  0.16   7.36  0.00    0.12   \n",
      "202  204  1.51658  14.80  0.00  1.99  73.11  0.00   8.28  1.71    0.00   \n",
      "171  173  1.51321  13.00  0.00  3.02  70.70  6.21   6.93  0.00    0.00   \n",
      "152  154  1.51610  13.42  3.40  1.22  72.69  0.59   8.32  0.00    0.00   \n",
      "97    99  1.51689  12.67  2.88  1.71  73.21  0.73   8.54  0.00    0.00   \n",
      "84    86  1.51625  13.36  3.58  1.49  72.72  0.45   8.21  0.00    0.00   \n",
      "101  103  1.51820  12.62  2.76  0.83  73.81  0.35   9.42  0.00    0.20   \n",
      "200  202  1.51653  11.95  0.00  1.19  75.18  2.70   8.93  0.00    0.00   \n",
      "60    62  1.51977  13.81  3.58  1.32  71.72  0.12   8.67  0.69    0.00   \n",
      "\n",
      "     Actual Type  Predicted Type  \n",
      "9              1               1  \n",
      "197            7               7  \n",
      "66             1               1  \n",
      "191            7               7  \n",
      "117            2               2  \n",
      "111            2               2  \n",
      "15             1               1  \n",
      "86             2               2  \n",
      "75             2               2  \n",
      "144            2               3  \n",
      "182            6               6  \n",
      "170            5               5  \n",
      "141            2               2  \n",
      "73             2               2  \n",
      "178            6               6  \n",
      "167            5               5  \n",
      "190            7               7  \n",
      "18             1               1  \n",
      "45             1               1  \n",
      "184            7               7  \n",
      "98             2               2  \n",
      "208            7               7  \n",
      "210            7               7  \n",
      "195            7               7  \n",
      "148            3               3  \n",
      "104            2               2  \n",
      "30             1               1  \n",
      "25             1               1  \n",
      "175            6               6  \n",
      "16             1               1  \n",
      "55             1               1  \n",
      "138            2               2  \n",
      "158            3               3  \n",
      "93             2               2  \n",
      "69             2               2  \n",
      "202            7               7  \n",
      "171            5               5  \n",
      "152            3               3  \n",
      "97             2               2  \n",
      "84             2               2  \n",
      "101            2               2  \n",
      "200            7               7  \n",
      "60             1               1  \n"
     ]
    }
   ],
   "source": [
    "# Display the new table\n",
    "print(new_table)"
   ]
  },
  {
   "cell_type": "code",
   "execution_count": null,
   "id": "bfeb6a10",
   "metadata": {},
   "outputs": [],
   "source": []
  },
  {
   "cell_type": "code",
   "execution_count": null,
   "id": "04b5bc18",
   "metadata": {},
   "outputs": [],
   "source": []
  },
  {
   "cell_type": "code",
   "execution_count": null,
   "id": "20f4eae8",
   "metadata": {},
   "outputs": [],
   "source": []
  },
  {
   "cell_type": "code",
   "execution_count": null,
   "id": "7ce0dec3",
   "metadata": {},
   "outputs": [],
   "source": []
  },
  {
   "cell_type": "code",
   "execution_count": null,
   "id": "c6801fcd",
   "metadata": {},
   "outputs": [],
   "source": []
  },
  {
   "cell_type": "code",
   "execution_count": null,
   "id": "c1549b9b",
   "metadata": {},
   "outputs": [],
   "source": []
  }
 ],
 "metadata": {
  "kernelspec": {
   "display_name": "Python 3 (ipykernel)",
   "language": "python",
   "name": "python3"
  },
  "language_info": {
   "codemirror_mode": {
    "name": "ipython",
    "version": 3
   },
   "file_extension": ".py",
   "mimetype": "text/x-python",
   "name": "python",
   "nbconvert_exporter": "python",
   "pygments_lexer": "ipython3",
   "version": "3.9.13"
  }
 },
 "nbformat": 4,
 "nbformat_minor": 5
}
