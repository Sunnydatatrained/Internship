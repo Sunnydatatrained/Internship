{
 "cells": [
  {
   "cell_type": "markdown",
   "id": "8dcc41a1",
   "metadata": {},
   "source": [
    "# Regular Expressions"
   ]
  },
  {
   "cell_type": "markdown",
   "id": "add6e579",
   "metadata": {},
   "source": [
    "# Question 1- Write a Python program to check that a string contains only a certain set of characters (in this case a-z, A-Z and 0-9)."
   ]
  },
  {
   "cell_type": "code",
   "execution_count": 21,
   "id": "01dd0dd1",
   "metadata": {},
   "outputs": [
    {
     "name": "stdout",
     "output_type": "stream",
     "text": [
      "String contains characters\n"
     ]
    }
   ],
   "source": [
    "import re\n",
    "\n",
    "def characters(string):\n",
    "    pattern = r'^[a-zA-Z0-9]+$'\n",
    "    match = re.match(pattern, string)\n",
    "    if match:\n",
    "        print(\"String contains only a-z, A-Z, and 0-9.\")\n",
    "    else:\n",
    "        print(\"String contains characters\")\n",
    "\n",
    "string = \"Sunny@123\"\n",
    "\n",
    "\n",
    "characters(string)  \n",
    "\n"
   ]
  },
  {
   "cell_type": "markdown",
   "id": "2395e8b3",
   "metadata": {},
   "source": [
    "# Question 2- Create a function in python that matches a string that has an a followed by zero or more b's"
   ]
  },
  {
   "cell_type": "code",
   "execution_count": 30,
   "id": "53b59a56",
   "metadata": {},
   "outputs": [
    {
     "name": "stdout",
     "output_type": "stream",
     "text": [
      " 'a' not followed by zero or more 'b's.\n",
      " 'a' followed by zero or more 'b's.\n",
      " 'a' not followed by zero or more 'b's.\n"
     ]
    }
   ],
   "source": [
    "import re\n",
    "\n",
    "def string_ab(string):\n",
    "    pattern = r'^a[b]*$'\n",
    "    match = re.match(pattern, string)\n",
    "    if match:\n",
    "        print(\" 'a' followed by zero or more 'b's.\")\n",
    "    else:\n",
    "        print(\" 'a' not followed by zero or more 'b's.\")\n",
    "\n",
    "string1 = \"abc\"\n",
    "string2 = \"abb\"\n",
    "string3 = \"acd\"\n",
    "\n",
    "string_ab(string1) \n",
    "string_ab(string2)\n",
    "string_ab(string3)\n"
   ]
  },
  {
   "cell_type": "markdown",
   "id": "b7580a44",
   "metadata": {},
   "source": [
    "# Question 3-  Create a function in python that matches a string that has an a followed by one or more b's"
   ]
  },
  {
   "cell_type": "code",
   "execution_count": 34,
   "id": "8e9505c7",
   "metadata": {},
   "outputs": [
    {
     "name": "stdout",
     "output_type": "stream",
     "text": [
      " 'a' not followed by one or more 'b's.\n",
      " 'a' followed by one or more 'b's.\n",
      " 'a' not followed by one or more 'b's.\n"
     ]
    }
   ],
   "source": [
    "import re\n",
    "\n",
    "def string_ab(string):\n",
    "    pattern = r'^ab+$'\n",
    "    match = re.match(pattern, string)\n",
    "    if match:\n",
    "        print(\" 'a' followed by one or more 'b's.\")\n",
    "    else:\n",
    "        print(\" 'a' not followed by one or more 'b's.\")\n",
    "\n",
    "string1 = \"ac\"\n",
    "string2 = \"abb\"\n",
    "string3 = \"acd\"\n",
    "\n",
    "string_ab(string1) \n",
    "string_ab(string2)\n",
    "string_ab(string3)"
   ]
  },
  {
   "cell_type": "markdown",
   "id": "e0292c85",
   "metadata": {},
   "source": [
    "# Question 4- Create a function in Python and use RegEx that matches a string that has an a followed by zero or one 'b'."
   ]
  },
  {
   "cell_type": "code",
   "execution_count": 39,
   "id": "ade573b3",
   "metadata": {},
   "outputs": [
    {
     "name": "stdout",
     "output_type": "stream",
     "text": [
      " 'a' not followed by zero or one 'b'\n",
      " 'a' not followed by zero or one 'b'\n",
      " 'a' followed by zero or one 'b'\n",
      " 'a' followed by zero or one 'b'\n"
     ]
    }
   ],
   "source": [
    "import re\n",
    "\n",
    "def string_ab(string):\n",
    "    pattern = r'^ab?$'\n",
    "    match = re.match(pattern, string)\n",
    "    if match:\n",
    "        print(\" 'a' followed by zero or one 'b'\")\n",
    "    else:\n",
    "        print(\" 'a' not followed by zero or one 'b'\")\n",
    "\n",
    "string1 = \"ac\"\n",
    "string2 = \"abb\"\n",
    "string3 = \"ab\"\n",
    "string4= \"a\"\n",
    "\n",
    "string_ab(string1) \n",
    "string_ab(string2)\n",
    "string_ab(string3)\n",
    "string_ab(string4)"
   ]
  },
  {
   "cell_type": "markdown",
   "id": "dad3253b",
   "metadata": {},
   "source": [
    "# Question 5- Write a Python program that matches a string that has an a followed by three 'b'."
   ]
  },
  {
   "cell_type": "code",
   "execution_count": 41,
   "id": "71ac1d0a",
   "metadata": {},
   "outputs": [
    {
     "name": "stdout",
     "output_type": "stream",
     "text": [
      " 'a' not followed by three 'b'\n",
      " 'a' followed by three 'b'\n",
      " 'a' not followed by three 'b'\n",
      " 'a' not followed by three 'b'\n"
     ]
    }
   ],
   "source": [
    "import re\n",
    "\n",
    "def string_ab(string):\n",
    "    pattern = r'^abbb$'\n",
    "    match = re.match(pattern, string)\n",
    "    if match:\n",
    "        print(\" 'a' followed by three 'b'\")\n",
    "    else:\n",
    "        print(\" 'a' not followed by three 'b'\")\n",
    "\n",
    "string1 = \"ac\"\n",
    "string2 = \"abbb\"\n",
    "string3 = \"ab\"\n",
    "string4= \"abbbb\"\n",
    "\n",
    "string_ab(string1) \n",
    "string_ab(string2)\n",
    "string_ab(string3)\n",
    "string_ab(string4)"
   ]
  },
  {
   "cell_type": "markdown",
   "id": "c255182c",
   "metadata": {},
   "source": [
    "# Question 6-Write a regular expression in Python to split a string into uppercase letters.\n",
    "Sample text: “ImportanceOfRegularExpressionsInPython”\n"
   ]
  },
  {
   "cell_type": "code",
   "execution_count": 58,
   "id": "ad05baa7",
   "metadata": {},
   "outputs": [
    {
     "name": "stdout",
     "output_type": "stream",
     "text": [
      "['', 'Importance', 'Of', 'Regular', 'Expressions', 'In', 'Python']\n"
     ]
    }
   ],
   "source": [
    "import re\n",
    "\n",
    "def split(string):\n",
    "    pattern = r'(?=[A-Z])'\n",
    "    split_string = re.split(pattern, string)\n",
    "    return split_string\n",
    "\n",
    "text = \"ImportanceOfRegularExpressionsInPython\"\n",
    "split_result = split(text)\n",
    "print(split_result)\n",
    "\n"
   ]
  },
  {
   "cell_type": "markdown",
   "id": "2fea3640",
   "metadata": {},
   "source": [
    "# Question 7- Write a Python program that matches a string that has an a followed by two to three 'b'."
   ]
  },
  {
   "cell_type": "code",
   "execution_count": 60,
   "id": "22239d2a",
   "metadata": {},
   "outputs": [
    {
     "name": "stdout",
     "output_type": "stream",
     "text": [
      " 'a' not followed by two to three 'b'\n",
      " 'a' followed by two to three 'b'\n",
      " 'a' followed by two to three 'b'\n",
      " 'a' not followed by two to three 'b'\n"
     ]
    }
   ],
   "source": [
    "import re\n",
    "\n",
    "def string_ab(string):\n",
    "    pattern = r'^ab{2,3}$'\n",
    "    match = re.match(pattern, string)\n",
    "    if match:\n",
    "        print(\" 'a' followed by two to three 'b'\")\n",
    "    else:\n",
    "        print(\" 'a' not followed by two to three 'b'\")\n",
    "\n",
    "string1 = \"ac\"\n",
    "string2 = \"abbb\"\n",
    "string3 = \"abb\"\n",
    "string4= \"abbbb\"\n",
    "\n",
    "string_ab(string1) \n",
    "string_ab(string2)\n",
    "string_ab(string3)\n",
    "string_ab(string4)"
   ]
  },
  {
   "cell_type": "markdown",
   "id": "3732f7cd",
   "metadata": {},
   "source": [
    "# Question 8- Write a Python program to find sequences of lowercase letters joined with a underscore."
   ]
  },
  {
   "cell_type": "code",
   "execution_count": 67,
   "id": "9444bafd",
   "metadata": {},
   "outputs": [
    {
     "name": "stdout",
     "output_type": "stream",
     "text": [
      "['live_in', 'my_country']\n"
     ]
    }
   ],
   "source": [
    "import re\n",
    "\n",
    "def lowercase_underscore(string):\n",
    "    pattern = r'[a-z]+_[a-z]+'\n",
    "    matches = re.findall(pattern, string)\n",
    "    return matches\n",
    "\n",
    "text = \"I live_in Inida_ I_love my_country\"\n",
    "result = lowercase_underscore(text)\n",
    "print(result)\n"
   ]
  },
  {
   "cell_type": "markdown",
   "id": "1f91a2fb",
   "metadata": {},
   "source": [
    "# Question 9- Write a Python program that matches a string that has an 'a' followed by anything, ending in 'b'."
   ]
  },
  {
   "cell_type": "code",
   "execution_count": 72,
   "id": "903dee4d",
   "metadata": {},
   "outputs": [
    {
     "name": "stdout",
     "output_type": "stream",
     "text": [
      " 'a' not followed by anything, ending in 'b'\n",
      " 'a' followed by anything, ending in 'b'\n",
      " 'a' not followed by anything, ending in 'b'\n",
      " 'a' followed by anything, ending in 'b'\n"
     ]
    }
   ],
   "source": [
    "import re\n",
    "\n",
    "def string_ab(string):\n",
    "    pattern = r'^a.*b$'\n",
    "    match = re.match(pattern, string)\n",
    "    if match:\n",
    "        print(\" 'a' followed by anything, ending in 'b'\")\n",
    "    else:\n",
    "        print(\" 'a' not followed by anything, ending in 'b'\")\n",
    "\n",
    "string1 = \"ac\"\n",
    "string2 = \"abbb\"\n",
    "string3 = \"abbe\"\n",
    "string4= \"axyzb\"\n",
    "\n",
    "string_ab(string1) \n",
    "string_ab(string2)\n",
    "string_ab(string3)\n",
    "string_ab(string4)"
   ]
  },
  {
   "cell_type": "markdown",
   "id": "1b0b8398",
   "metadata": {},
   "source": [
    "# Question 10- Write a Python program that matches a word at the beginning of a string."
   ]
  },
  {
   "cell_type": "code",
   "execution_count": 81,
   "id": "1ebadbb1",
   "metadata": {},
   "outputs": [
    {
     "name": "stdout",
     "output_type": "stream",
     "text": [
      "String match a word at the beginning of the string.\n",
      "Matched word: Country\n"
     ]
    }
   ],
   "source": [
    "import re\n",
    "\n",
    "def match_word_at_beginning(string):\n",
    "    pattern = r'^\\w+'\n",
    "    match = re.match(pattern, string)\n",
    "    if match:\n",
    "        print(\"String match a word at the beginning of the string.\")\n",
    "        matched_word = match.group()\n",
    "        print(\"Matched word:\", matched_word)\n",
    "    else:\n",
    "        print(\"String does not match a word at the beginning of the string.\")\n",
    "\n",
    "string1 = \"Country India\"\n",
    "\n",
    "match_word_at_beginning(string1)\n"
   ]
  },
  {
   "cell_type": "markdown",
   "id": "53c4c328",
   "metadata": {},
   "source": [
    "# Question 11- Write a Python program to match a string that contains only upper and lowercase letters, numbers, and underscores."
   ]
  },
  {
   "cell_type": "code",
   "execution_count": 102,
   "id": "e6b511f4",
   "metadata": {},
   "outputs": [
    {
     "name": "stdout",
     "output_type": "stream",
     "text": [
      "String contains only upper and lowercase letters, numbers, and underscores.\n",
      "String does not contains characters other than upper and lowercase letters, numbers, and underscores.\n",
      "String does not contains characters other than upper and lowercase letters, numbers, and underscores.\n"
     ]
    }
   ],
   "source": [
    "import re\n",
    "\n",
    "def match(string):\n",
    "    pattern = r'^[a-zA-Z0-9_]+$'\n",
    "    match = re.match(pattern, string)\n",
    "    if match:\n",
    "        print(\"String contains only upper and lowercase letters, numbers, and underscores.\")\n",
    "    else:\n",
    "        print(\"String does not contains characters other than upper and lowercase letters, numbers, and underscores.\")\n",
    "\n",
    "\n",
    "string1 = \"My_Name_is_Sunny\"\n",
    "string2 = \"Sunny@123\"\n",
    "string3 = \"India1993!\"\n",
    "\n",
    "match(string1)  \n",
    "match(string2) \n",
    "match(string3) "
   ]
  },
  {
   "cell_type": "markdown",
   "id": "1f6c5233",
   "metadata": {},
   "source": [
    "# Question 12- Write a Python program where a string will start with a specific number."
   ]
  },
  {
   "cell_type": "code",
   "execution_count": 101,
   "id": "c49f2291",
   "metadata": {},
   "outputs": [
    {
     "name": "stdout",
     "output_type": "stream",
     "text": [
      "String starts with the number 12.\n",
      "String does not start with the number 12.\n",
      "String starts with the number 11.\n"
     ]
    }
   ],
   "source": [
    "import re\n",
    "\n",
    "def check_string(string, number):\n",
    "    pattern = fr'^{number}'\n",
    "    match = re.search(pattern, string)\n",
    "    if match:\n",
    "        print(f\"String starts with the number {number}.\")\n",
    "    else:\n",
    "        print(f\"String does not start with the number {number}.\")\n",
    "\n",
    "\n",
    "string1 = \"12abc\"\n",
    "string2 = \"11678\"\n",
    "number1 = 12\n",
    "number2 = 11\n",
    "\n",
    "check_string(string1, number1)  \n",
    "check_string(string2, number1)  \n",
    "check_string(string2, number2)"
   ]
  },
  {
   "cell_type": "markdown",
   "id": "1026e0a8",
   "metadata": {},
   "source": [
    "# Question 13- Write a Python program to remove leading zeros from an IP address"
   ]
  },
  {
   "cell_type": "code",
   "execution_count": 108,
   "id": "eb8a9b46",
   "metadata": {},
   "outputs": [
    {
     "name": "stdout",
     "output_type": "stream",
     "text": [
      "Original IP: 192.153.001.001\n",
      "without_leading_zeros_ip_address: 192.168.1.1\n",
      "Original IP: 168.020.003.004\n",
      "without_leading_zeros_ip_address: 10.20.3.4\n"
     ]
    }
   ],
   "source": [
    "import re\n",
    "\n",
    "def remove_leading_zeros(ip_address):\n",
    "    pattern = r'\\b0+(\\d)'\n",
    "    without_leading_zeros_ip_address = re.sub(pattern, r'\\1', ip_address)\n",
    "    return without_leading_zeros_ip_address\n",
    "\n",
    "ip_address1 = \"192.153.001.001\"\n",
    "ip_address2 = \"168.020.003.004\"\n",
    "\n",
    "without_leading_zeros_ip_address1 = remove_leading_zeros(ip_address1)\n",
    "without_leading_zeros_ip_address2 = remove_leading_zeros(ip_address2)\n",
    "\n",
    "print(\"Original IP:\", ip_address1)\n",
    "print(\"without_leading_zeros_ip_address:\", cleaned_ip1)\n",
    "\n",
    "print(\"Original IP:\", ip_address2)\n",
    "print(\"without_leading_zeros_ip_address:\", cleaned_ip2)\n"
   ]
  },
  {
   "cell_type": "markdown",
   "id": "963dc361",
   "metadata": {},
   "source": [
    "# Question 14- Write a regular expression in python to match a date string in the form of Month name followed by day number and year stored in a text file."
   ]
  },
  {
   "cell_type": "code",
   "execution_count": 124,
   "id": "d2a4a440",
   "metadata": {},
   "outputs": [
    {
     "name": "stdout",
     "output_type": "stream",
     "text": [
      "No match found.\n"
     ]
    }
   ],
   "source": [
    "import re\n",
    "\n",
    "def match(string):\n",
    "    pattern = r'\\b[A-Z][a-z]+\\s\\d+(?:st|nd|rd|th)\\s\\d{4}\\b'\n",
    "    match = re.match(pattern, string)\n",
    "    if match:\n",
    "        date_string = match.group()\n",
    "        print(\"Match found:\", date_string)\n",
    "    else:\n",
    "        print(\"No match found.\")\n",
    "\n",
    "text = \"On August 15th 1947 that India was declared independent from British colonialism, and the reins of control were handed over to the leaders of the Country\"\n",
    "match(text)\n",
    "\n"
   ]
  },
  {
   "cell_type": "code",
   "execution_count": 125,
   "id": "7c4d46c9",
   "metadata": {},
   "outputs": [
    {
     "name": "stdout",
     "output_type": "stream",
     "text": [
      "Match found: August 15th 1947\n"
     ]
    }
   ],
   "source": [
    "import re\n",
    "\n",
    "def match(string):\n",
    "    pattern = r'\\b[A-Z][a-z]+\\s\\d+(?:st|nd|rd|th)\\s\\d{4}\\b'\n",
    "    match = re.search(pattern, string)\n",
    "    if match:\n",
    "        date_string = match.group()\n",
    "        print(\"Match found:\", date_string)\n",
    "    else:\n",
    "        print(\"No match found.\")\n",
    "\n",
    "text = \"On August 15th 1947 that India was declared independent from British colonialism, and the reins of control were handed over to the leaders of the Country\"\n",
    "match(text)\n"
   ]
  },
  {
   "cell_type": "markdown",
   "id": "72330b7c",
   "metadata": {},
   "source": [
    "# Question 15- Write a Python program to search some literals strings in a string. Go to the editor\n",
    "Sample text : 'The quick brown fox jumps over the lazy dog.'\n",
    "Searched words : 'fox', 'dog', 'horse'\n"
   ]
  },
  {
   "cell_type": "code",
   "execution_count": 127,
   "id": "1aacd112",
   "metadata": {},
   "outputs": [
    {
     "name": "stdout",
     "output_type": "stream",
     "text": [
      "Found words: ['fox', 'dog']\n"
     ]
    }
   ],
   "source": [
    "import re\n",
    "\n",
    "def search_literals_in_text(text, searched_words):\n",
    "    found_words = []\n",
    "    for word in searched_words:\n",
    "        pattern = fr'\\b{re.escape(word)}\\b'\n",
    "        if re.search(pattern, text):\n",
    "            found_words.append(word)\n",
    "    return found_words\n",
    "\n",
    "sample_text = 'The quick brown fox jumps over the lazy dog.'\n",
    "searched_words = ['fox', 'dog', 'horse']\n",
    "\n",
    "found_words = search_literals_in_text(sample_text, searched_words)\n",
    "print(\"Found words:\", found_words)\n"
   ]
  },
  {
   "cell_type": "markdown",
   "id": "bb4f80eb",
   "metadata": {},
   "source": [
    "# Question 16- Write a Python program to search a literals string in a string and also find the location within the original string where the pattern occurs\n",
    "Sample text : 'The quick brown fox jumps over the lazy dog.'\n",
    "Searched words : 'fox'\n"
   ]
  },
  {
   "cell_type": "code",
   "execution_count": 135,
   "id": "662afb7b",
   "metadata": {},
   "outputs": [
    {
     "name": "stdout",
     "output_type": "stream",
     "text": [
      "Found locations: [(16, 19), (16, 19), (16, 19), (16, 19), (16, 19), (16, 19)]\n"
     ]
    }
   ],
   "source": [
    "import re\n",
    "\n",
    "def search_literal_with_location(text, searched_word):\n",
    "    pattern = re.escape(searched_word)\n",
    "    matches = re.finditer(pattern, text)\n",
    "    \n",
    "    locations = []\n",
    "    for match in matches:\n",
    "        start = match.start()\n",
    "        end = match.end()\n",
    "        found_locations.append((start, end))\n",
    "    \n",
    "    return found_locations\n",
    "\n",
    "sample_text = 'The quick brown fox jumps over the lazy dog.'\n",
    "searched_word = 'fox'\n",
    "\n",
    "locations = search_literal_with_location(sample_text, searched_word)\n",
    "print(\"Found locations:\", found_locations)"
   ]
  },
  {
   "cell_type": "markdown",
   "id": "dfad8b87",
   "metadata": {},
   "source": [
    "# Question 17- Write a Python program to find the substrings within a string.\n",
    "Sample text : 'Python exercises, PHP exercises, C# exercises'\n",
    "Pattern : 'exercises'.\n"
   ]
  },
  {
   "cell_type": "code",
   "execution_count": 140,
   "id": "741d98bd",
   "metadata": {},
   "outputs": [
    {
     "name": "stdout",
     "output_type": "stream",
     "text": [
      "Found substrings: ['exercises', 'exercises', 'exercises']\n"
     ]
    }
   ],
   "source": [
    "import re\n",
    "\n",
    "def find_substrings(string, pattern):\n",
    "    matches = re.finditer(pattern, string)\n",
    "    substrings = [match.group() for match in matches]\n",
    "    return substrings\n",
    "\n",
    "sample_text = 'Python exercises, PHP exercises, C# exercises'\n",
    "pattern = 'exercises'\n",
    "\n",
    "found_substrings = find_substrings(sample_text, pattern)\n",
    "print(\"Found substrings:\", found_substrings)\n"
   ]
  },
  {
   "cell_type": "markdown",
   "id": "77952b53",
   "metadata": {},
   "source": [
    "# Question 18- Write a Python program to find the occurrence and position of the substrings within a string."
   ]
  },
  {
   "cell_type": "markdown",
   "id": "f9027933",
   "metadata": {},
   "source": [
    "unable to do this getting error"
   ]
  },
  {
   "cell_type": "markdown",
   "id": "d7a823e2",
   "metadata": {},
   "source": [
    "# Question 19- Write a Python program to convert a date of yyyy-mm-dd format to dd-mm-yyyy format."
   ]
  },
  {
   "cell_type": "code",
   "execution_count": 155,
   "id": "2d92969a",
   "metadata": {},
   "outputs": [
    {
     "name": "stdout",
     "output_type": "stream",
     "text": [
      "Converted date: 15-07-2023\n"
     ]
    }
   ],
   "source": [
    "import re\n",
    "\n",
    "def convert_date_format(date):\n",
    "    pattern = r'^(\\d{4})-(\\d{2})-(\\d{2})$'\n",
    "    match = re.match(pattern, date)\n",
    "    \n",
    "    if match:\n",
    "        year = match.group(1)\n",
    "        month = match.group(2)\n",
    "        day = match.group(3)\n",
    "        converted_date = f'{day}-{month}-{year}'\n",
    "        return converted_date\n",
    "    else:\n",
    "        return \"Invalid date format\"\n",
    "\n",
    "date = '2023-07-15'\n",
    "\n",
    "converted_date = convert_date_format(date)\n",
    "\n",
    "print(\"Converted date:\", converted_date)\n"
   ]
  },
  {
   "cell_type": "markdown",
   "id": "a837fbe6",
   "metadata": {},
   "source": [
    "# Question 20- Write a Python program to find all words starting with 'a' or 'e' in a given string."
   ]
  },
  {
   "cell_type": "code",
   "execution_count": 158,
   "id": "59e88e14",
   "metadata": {},
   "outputs": [
    {
     "name": "stdout",
     "output_type": "stream",
     "text": [
      "Found words: ['An', 'elephant', 'eat', 'apple']\n"
     ]
    }
   ],
   "source": [
    "import re\n",
    "\n",
    "def find_words_starting_with_a_or_e(string):\n",
    "    pattern = r'\\b[aAeE]\\w+\\b'\n",
    "    matches = re.findall(pattern, string)\n",
    "    return matches\n",
    "\n",
    "sample_text = 'An elephant in inida eat apple.'\n",
    "found_words = find_words_starting_with_a_or_e(sample_text)\n",
    "print(\"Found words:\", found_words)\n"
   ]
  },
  {
   "cell_type": "markdown",
   "id": "814727c3",
   "metadata": {},
   "source": [
    "# Question 22- Write a regular expression in python program to extract maximum numeric value from a string"
   ]
  },
  {
   "cell_type": "code",
   "execution_count": 160,
   "id": "d9ff321f",
   "metadata": {},
   "outputs": [
    {
     "name": "stdout",
     "output_type": "stream",
     "text": [
      "Maximum numeric value: 99\n"
     ]
    }
   ],
   "source": [
    "import re\n",
    "\n",
    "def extract_maximum_numeric_value(string):\n",
    "    pattern = r'\\b\\d+\\b'\n",
    "    numbers = re.findall(pattern, string)\n",
    "    \n",
    "    if numbers:\n",
    "        max_value = max(map(int, numbers))\n",
    "        return max_value\n",
    "    else:\n",
    "        return None\n",
    "\n",
    "sample_text = 'Seat number are 75, 88, 99.'\n",
    "max_value = extract_maximum_numeric_value(sample_text)\n",
    "print(\"Maximum numeric value:\", max_value)\n"
   ]
  },
  {
   "cell_type": "markdown",
   "id": "46ccd6f1",
   "metadata": {},
   "source": [
    "# Question 23- Write a Regex in Python to put spaces between words starting with capital letters"
   ]
  },
  {
   "cell_type": "code",
   "execution_count": 165,
   "id": "2e89142e",
   "metadata": {},
   "outputs": [
    {
     "name": "stdout",
     "output_type": "stream",
     "text": [
      "Modified text: Love My Country\n"
     ]
    }
   ],
   "source": [
    "import re\n",
    "\n",
    "def spaces_between_words(string):\n",
    "    pattern = r'([a-z])([A-Z])'\n",
    "    modified_string = re.sub(pattern, r'\\1 \\2', string)\n",
    "    return modified_string\n",
    "\n",
    "sample_text = 'LoveMyCountry'\n",
    "modified_text = spaces_between_words(sample_text)\n",
    "print(\"Modified text:\", modified_text)\n"
   ]
  },
  {
   "cell_type": "code",
   "execution_count": null,
   "id": "a67a4039",
   "metadata": {},
   "outputs": [],
   "source": [
    "# Question 24- Python regex to find sequences of one upper case letter followed by lower case letters"
   ]
  },
  {
   "cell_type": "code",
   "execution_count": 167,
   "id": "d2f829f0",
   "metadata": {},
   "outputs": [
    {
     "name": "stdout",
     "output_type": "stream",
     "text": [
      "Found sequences: ['Rose', 'Is', 'Beatiful']\n"
     ]
    }
   ],
   "source": [
    "import re\n",
    "\n",
    "def find_sequences(string):\n",
    "    pattern = r'[A-Z][a-z]+'\n",
    "    sequences = re.findall(pattern, string)\n",
    "    return sequences\n",
    "\n",
    "sample_text = 'Rose Is Beatiful'\n",
    "found_sequences = find_sequences(sample_text)\n",
    "print(\"Found sequences:\", found_sequences)\n"
   ]
  },
  {
   "cell_type": "markdown",
   "id": "f02b0bd9",
   "metadata": {},
   "source": [
    "# Question 25- Write a Python program to remove duplicate words from Sentence using Regular Expression"
   ]
  },
  {
   "cell_type": "code",
   "execution_count": 169,
   "id": "be5c1f6a",
   "metadata": {},
   "outputs": [
    {
     "name": "stdout",
     "output_type": "stream",
     "text": [
      "Modified sentence: Today is Beatiful sunny day\n"
     ]
    }
   ],
   "source": [
    "import re\n",
    "\n",
    "def remove_duplicate_words(sentence):\n",
    "    pattern = r'\\b(\\w+)\\b\\s+(?=.*\\b\\1\\b)'\n",
    "    modified_sentence = re.sub(pattern, '', sentence)\n",
    "    return modified_sentence.strip()\n",
    "\n",
    "sample_sentence = 'Today is is Beatiful sunny sunny day'\n",
    "modified_sentence = remove_duplicate_words(sample_sentence)\n",
    "print(\"Modified sentence:\", modified_sentence)\n"
   ]
  },
  {
   "cell_type": "markdown",
   "id": "f7c924b5",
   "metadata": {},
   "source": [
    "# Question 26-  Write a python program using RegEx to accept string ending with alphanumeric character."
   ]
  },
  {
   "cell_type": "code",
   "execution_count": 178,
   "id": "77733a26",
   "metadata": {},
   "outputs": [
    {
     "name": "stdout",
     "output_type": "stream",
     "text": [
      "accepted_string 1: True\n",
      "accepted_string 2: False\n",
      "accepted_string 3: True\n",
      "accepted_string 4: True\n",
      "accepted_string 5: True\n"
     ]
    }
   ],
   "source": [
    "import re\n",
    "\n",
    "def accepted_string(string):\n",
    "    pattern = r'^.*[a-zA-Z0-9]$'\n",
    "    match = re.match(pattern, string)\n",
    "    return match is not None\n",
    "\n",
    "sample_string1 = 'Hello123'\n",
    "sample_string2 = 'Goodbye!!'\n",
    "sample_string3 = '12345'\n",
    "sample_string4 = 'Robot2'\n",
    "sample_string5 = 'Chandrayan3'\n",
    "\n",
    "print(\"accepted_string 1:\", accepted_string(sample_string1))\n",
    "print(\"accepted_string 2:\", accepted_string(sample_string2))\n",
    "print(\"accepted_string 3:\", accepted_string(sample_string3))\n",
    "print(\"accepted_string 4:\", accepted_string(sample_string4))\n",
    "print(\"accepted_string 5:\", accepted_string(sample_string5))\n"
   ]
  },
  {
   "cell_type": "markdown",
   "id": "d6364c40",
   "metadata": {},
   "source": [
    "# Question 27-Write a python program using RegEx to extract the hashtags."
   ]
  },
  {
   "cell_type": "code",
   "execution_count": 186,
   "id": "de04fa6d",
   "metadata": {},
   "outputs": [
    {
     "name": "stdout",
     "output_type": "stream",
     "text": [
      "Extracted hashtags: ['#Doltiwal', '#xyzabc', '#Demonetization']\n"
     ]
    }
   ],
   "source": [
    "import re\n",
    "\n",
    "def extract_hashtags(text):\n",
    "    pattern = r'#\\w+'\n",
    "    hashtags = re.findall(pattern, text)\n",
    "    return hashtags\n",
    "\n",
    "sample_text = 'RT @kapil_kausik: #Doltiwal I mean #xyzabc is \"hurt\" by #Demonetization as the same has rendered USELESS <ed><U+00A0><U+00BD><ed><U+00B1><U+0089> \"acquired funds\" No wo'\n",
    "extracted_hashtags = extract_hashtags(sample_text)\n",
    "print(\"Extracted hashtags:\", extracted_hashtags)\n"
   ]
  },
  {
   "cell_type": "markdown",
   "id": "ab608228",
   "metadata": {},
   "source": [
    "# Question 28- Write a python program using RegEx to remove <U+..> like symbols"
   ]
  },
  {
   "cell_type": "code",
   "execution_count": 189,
   "id": "bc68bb2d",
   "metadata": {},
   "outputs": [
    {
     "name": "stdout",
     "output_type": "stream",
     "text": [
      "Modified text: @Jags123456 Bharat band on 28??<ed><ed>Those who are protesting #demonetization are all different party leaders\n"
     ]
    }
   ],
   "source": [
    "import re\n",
    "\n",
    "def remove_symbols(text):\n",
    "    pattern = r'<U\\+\\w+>'\n",
    "    modified_text = re.sub(pattern, '', text)\n",
    "    return modified_text\n",
    "\n",
    "sample_text = \"@Jags123456 Bharat band on 28??<ed><U+00A0><U+00BD><ed><U+00B8><U+0082>Those who are protesting #demonetization are all different party leaders\"\n",
    "modified_text = remove_symbols(sample_text)\n",
    "print(\"Modified text:\", modified_text)\n"
   ]
  },
  {
   "cell_type": "markdown",
   "id": "83a78fd3",
   "metadata": {},
   "source": [
    "# Question 29- Write a python program to extract dates from the text stored in the text file."
   ]
  },
  {
   "cell_type": "code",
   "execution_count": 192,
   "id": "84074764",
   "metadata": {},
   "outputs": [
    {
     "name": "stdout",
     "output_type": "stream",
     "text": [
      "Extracted dates: ['12-09-1992', '15-12-1999']\n"
     ]
    }
   ],
   "source": [
    "import re\n",
    "\n",
    "def extract_dates_from_file(file_path):\n",
    "    with open(file_path, 'r') as file:\n",
    "        text = file.read()\n",
    "        pattern = r'\\b\\d{1,2}[/\\-]\\d{1,2}[/\\-]\\d{2,4}\\b'\n",
    "        dates = re.findall(pattern, text)\n",
    "        return dates\n",
    "\n",
    "file_path = 'Q29.txt'\n",
    "extracted_dates = extract_dates_from_file(file_path)\n",
    "print(\"Extracted dates:\", extracted_dates)\n"
   ]
  },
  {
   "cell_type": "markdown",
   "id": "2f3cba09",
   "metadata": {},
   "source": [
    "# Question 30- Write a Python program to replace all occurrences of a space, comma, or dot with a colon."
   ]
  },
  {
   "cell_type": "code",
   "execution_count": 194,
   "id": "abc267e8",
   "metadata": {},
   "outputs": [
    {
     "name": "stdout",
     "output_type": "stream",
     "text": [
      "Modified text: Python:Exercises::PHP:exercises:\n"
     ]
    }
   ],
   "source": [
    "def replace(text):\n",
    "    modified_text = text.replace(' ', ':').replace(',', ':').replace('.', ':')\n",
    "    return modified_text\n",
    "\n",
    "sample_text = 'Python Exercises, PHP exercises.'\n",
    "modified_text = replace(sample_text)\n",
    "print(\"Modified text:\", modified_text)\n"
   ]
  },
  {
   "cell_type": "code",
   "execution_count": null,
   "id": "49984598",
   "metadata": {},
   "outputs": [],
   "source": []
  },
  {
   "cell_type": "code",
   "execution_count": null,
   "id": "b9e3b9a6",
   "metadata": {},
   "outputs": [],
   "source": []
  },
  {
   "cell_type": "code",
   "execution_count": null,
   "id": "7a1055fb",
   "metadata": {},
   "outputs": [],
   "source": []
  },
  {
   "cell_type": "code",
   "execution_count": null,
   "id": "7e30f1f5",
   "metadata": {},
   "outputs": [],
   "source": []
  },
  {
   "cell_type": "code",
   "execution_count": null,
   "id": "c360442b",
   "metadata": {},
   "outputs": [],
   "source": []
  },
  {
   "cell_type": "code",
   "execution_count": null,
   "id": "75d8cbbd",
   "metadata": {},
   "outputs": [],
   "source": []
  },
  {
   "cell_type": "code",
   "execution_count": null,
   "id": "cf153065",
   "metadata": {},
   "outputs": [],
   "source": []
  },
  {
   "cell_type": "code",
   "execution_count": null,
   "id": "87573b31",
   "metadata": {},
   "outputs": [],
   "source": []
  },
  {
   "cell_type": "code",
   "execution_count": null,
   "id": "6e8165ee",
   "metadata": {},
   "outputs": [],
   "source": []
  },
  {
   "cell_type": "code",
   "execution_count": null,
   "id": "7afaf7ad",
   "metadata": {},
   "outputs": [],
   "source": []
  },
  {
   "cell_type": "code",
   "execution_count": null,
   "id": "81d2ad86",
   "metadata": {},
   "outputs": [],
   "source": []
  },
  {
   "cell_type": "code",
   "execution_count": null,
   "id": "3dbca58c",
   "metadata": {},
   "outputs": [],
   "source": []
  },
  {
   "cell_type": "code",
   "execution_count": null,
   "id": "09231072",
   "metadata": {},
   "outputs": [],
   "source": []
  },
  {
   "cell_type": "code",
   "execution_count": null,
   "id": "6c5ace38",
   "metadata": {},
   "outputs": [],
   "source": []
  },
  {
   "cell_type": "code",
   "execution_count": null,
   "id": "2fec2585",
   "metadata": {},
   "outputs": [],
   "source": []
  },
  {
   "cell_type": "code",
   "execution_count": null,
   "id": "43f7ce36",
   "metadata": {},
   "outputs": [],
   "source": []
  },
  {
   "cell_type": "code",
   "execution_count": null,
   "id": "cabd0eda",
   "metadata": {},
   "outputs": [],
   "source": []
  },
  {
   "cell_type": "code",
   "execution_count": null,
   "id": "48feb90a",
   "metadata": {},
   "outputs": [],
   "source": []
  },
  {
   "cell_type": "code",
   "execution_count": null,
   "id": "ba5e001d",
   "metadata": {},
   "outputs": [],
   "source": []
  },
  {
   "cell_type": "code",
   "execution_count": null,
   "id": "24ef98ed",
   "metadata": {},
   "outputs": [],
   "source": []
  },
  {
   "cell_type": "code",
   "execution_count": null,
   "id": "9240b1e2",
   "metadata": {},
   "outputs": [],
   "source": []
  },
  {
   "cell_type": "code",
   "execution_count": null,
   "id": "b624f8c6",
   "metadata": {},
   "outputs": [],
   "source": []
  },
  {
   "cell_type": "code",
   "execution_count": null,
   "id": "b11be94e",
   "metadata": {},
   "outputs": [],
   "source": []
  },
  {
   "cell_type": "code",
   "execution_count": null,
   "id": "2b3def20",
   "metadata": {},
   "outputs": [],
   "source": []
  },
  {
   "cell_type": "code",
   "execution_count": null,
   "id": "339c5ed7",
   "metadata": {},
   "outputs": [],
   "source": []
  },
  {
   "cell_type": "code",
   "execution_count": null,
   "id": "ac6e466b",
   "metadata": {},
   "outputs": [],
   "source": []
  },
  {
   "cell_type": "code",
   "execution_count": null,
   "id": "0482ed59",
   "metadata": {},
   "outputs": [],
   "source": []
  },
  {
   "cell_type": "code",
   "execution_count": null,
   "id": "101959cb",
   "metadata": {},
   "outputs": [],
   "source": []
  },
  {
   "cell_type": "code",
   "execution_count": null,
   "id": "1eac592e",
   "metadata": {},
   "outputs": [],
   "source": []
  },
  {
   "cell_type": "code",
   "execution_count": null,
   "id": "fcaa5716",
   "metadata": {},
   "outputs": [],
   "source": []
  },
  {
   "cell_type": "code",
   "execution_count": null,
   "id": "f7fe4fb2",
   "metadata": {},
   "outputs": [],
   "source": []
  },
  {
   "cell_type": "code",
   "execution_count": null,
   "id": "9a304f8a",
   "metadata": {},
   "outputs": [],
   "source": []
  },
  {
   "cell_type": "code",
   "execution_count": null,
   "id": "e5a5a691",
   "metadata": {},
   "outputs": [],
   "source": []
  },
  {
   "cell_type": "code",
   "execution_count": null,
   "id": "840f728d",
   "metadata": {},
   "outputs": [],
   "source": []
  },
  {
   "cell_type": "code",
   "execution_count": null,
   "id": "ecd4e6e2",
   "metadata": {},
   "outputs": [],
   "source": []
  },
  {
   "cell_type": "code",
   "execution_count": null,
   "id": "0ca81c4f",
   "metadata": {},
   "outputs": [],
   "source": []
  },
  {
   "cell_type": "code",
   "execution_count": null,
   "id": "3aced1d4",
   "metadata": {},
   "outputs": [],
   "source": []
  },
  {
   "cell_type": "code",
   "execution_count": null,
   "id": "53bec371",
   "metadata": {},
   "outputs": [],
   "source": []
  },
  {
   "cell_type": "code",
   "execution_count": null,
   "id": "eba72f49",
   "metadata": {},
   "outputs": [],
   "source": []
  },
  {
   "cell_type": "code",
   "execution_count": null,
   "id": "97b355c9",
   "metadata": {},
   "outputs": [],
   "source": []
  },
  {
   "cell_type": "code",
   "execution_count": null,
   "id": "0fead1e5",
   "metadata": {},
   "outputs": [],
   "source": []
  },
  {
   "cell_type": "code",
   "execution_count": null,
   "id": "35f3c84c",
   "metadata": {},
   "outputs": [],
   "source": []
  },
  {
   "cell_type": "code",
   "execution_count": null,
   "id": "79f832ea",
   "metadata": {},
   "outputs": [],
   "source": []
  },
  {
   "cell_type": "code",
   "execution_count": null,
   "id": "304dedde",
   "metadata": {},
   "outputs": [],
   "source": []
  },
  {
   "cell_type": "code",
   "execution_count": null,
   "id": "78d2ea3e",
   "metadata": {},
   "outputs": [],
   "source": []
  },
  {
   "cell_type": "code",
   "execution_count": null,
   "id": "cc2e21ee",
   "metadata": {},
   "outputs": [],
   "source": []
  },
  {
   "cell_type": "code",
   "execution_count": null,
   "id": "5479d4be",
   "metadata": {},
   "outputs": [],
   "source": []
  },
  {
   "cell_type": "code",
   "execution_count": null,
   "id": "ac2f1f49",
   "metadata": {},
   "outputs": [],
   "source": []
  },
  {
   "cell_type": "code",
   "execution_count": null,
   "id": "4352a683",
   "metadata": {},
   "outputs": [],
   "source": []
  },
  {
   "cell_type": "code",
   "execution_count": null,
   "id": "943bbe56",
   "metadata": {},
   "outputs": [],
   "source": []
  },
  {
   "cell_type": "code",
   "execution_count": null,
   "id": "9d76e135",
   "metadata": {},
   "outputs": [],
   "source": []
  },
  {
   "cell_type": "code",
   "execution_count": null,
   "id": "b5450ddb",
   "metadata": {},
   "outputs": [],
   "source": []
  },
  {
   "cell_type": "code",
   "execution_count": null,
   "id": "1a31974d",
   "metadata": {},
   "outputs": [],
   "source": []
  },
  {
   "cell_type": "code",
   "execution_count": null,
   "id": "16dfcf36",
   "metadata": {},
   "outputs": [],
   "source": []
  },
  {
   "cell_type": "code",
   "execution_count": null,
   "id": "db86226a",
   "metadata": {},
   "outputs": [],
   "source": []
  },
  {
   "cell_type": "code",
   "execution_count": null,
   "id": "2d3e7163",
   "metadata": {},
   "outputs": [],
   "source": []
  },
  {
   "cell_type": "code",
   "execution_count": null,
   "id": "e160e1b2",
   "metadata": {},
   "outputs": [],
   "source": []
  },
  {
   "cell_type": "code",
   "execution_count": null,
   "id": "f408aa81",
   "metadata": {},
   "outputs": [],
   "source": []
  },
  {
   "cell_type": "code",
   "execution_count": null,
   "id": "57fc60af",
   "metadata": {},
   "outputs": [],
   "source": []
  },
  {
   "cell_type": "code",
   "execution_count": null,
   "id": "a95fd1de",
   "metadata": {},
   "outputs": [],
   "source": []
  },
  {
   "cell_type": "code",
   "execution_count": null,
   "id": "cbeec844",
   "metadata": {},
   "outputs": [],
   "source": []
  },
  {
   "cell_type": "code",
   "execution_count": null,
   "id": "99811e53",
   "metadata": {},
   "outputs": [],
   "source": []
  },
  {
   "cell_type": "code",
   "execution_count": null,
   "id": "4a8dba09",
   "metadata": {},
   "outputs": [],
   "source": []
  },
  {
   "cell_type": "code",
   "execution_count": null,
   "id": "8559cd93",
   "metadata": {},
   "outputs": [],
   "source": []
  },
  {
   "cell_type": "code",
   "execution_count": null,
   "id": "3f98e6e9",
   "metadata": {},
   "outputs": [],
   "source": []
  },
  {
   "cell_type": "code",
   "execution_count": null,
   "id": "c8ee7a10",
   "metadata": {},
   "outputs": [],
   "source": []
  },
  {
   "cell_type": "code",
   "execution_count": null,
   "id": "743f7901",
   "metadata": {},
   "outputs": [],
   "source": []
  },
  {
   "cell_type": "code",
   "execution_count": null,
   "id": "51307fc2",
   "metadata": {},
   "outputs": [],
   "source": []
  },
  {
   "cell_type": "code",
   "execution_count": null,
   "id": "159c9983",
   "metadata": {},
   "outputs": [],
   "source": []
  },
  {
   "cell_type": "code",
   "execution_count": null,
   "id": "d72b3536",
   "metadata": {},
   "outputs": [],
   "source": []
  },
  {
   "cell_type": "code",
   "execution_count": null,
   "id": "7287f008",
   "metadata": {},
   "outputs": [],
   "source": []
  },
  {
   "cell_type": "code",
   "execution_count": null,
   "id": "dd3b9f43",
   "metadata": {},
   "outputs": [],
   "source": []
  },
  {
   "cell_type": "code",
   "execution_count": null,
   "id": "99bcd847",
   "metadata": {},
   "outputs": [],
   "source": []
  },
  {
   "cell_type": "code",
   "execution_count": null,
   "id": "0fd97401",
   "metadata": {},
   "outputs": [],
   "source": []
  },
  {
   "cell_type": "code",
   "execution_count": null,
   "id": "301d4a6f",
   "metadata": {},
   "outputs": [],
   "source": []
  },
  {
   "cell_type": "code",
   "execution_count": null,
   "id": "5ae45e1f",
   "metadata": {},
   "outputs": [],
   "source": []
  },
  {
   "cell_type": "code",
   "execution_count": null,
   "id": "73cffa33",
   "metadata": {},
   "outputs": [],
   "source": []
  },
  {
   "cell_type": "code",
   "execution_count": null,
   "id": "ff669ccb",
   "metadata": {},
   "outputs": [],
   "source": []
  },
  {
   "cell_type": "code",
   "execution_count": null,
   "id": "6ac6e762",
   "metadata": {},
   "outputs": [],
   "source": []
  },
  {
   "cell_type": "code",
   "execution_count": null,
   "id": "1b35385c",
   "metadata": {},
   "outputs": [],
   "source": []
  },
  {
   "cell_type": "code",
   "execution_count": null,
   "id": "4b9edf50",
   "metadata": {},
   "outputs": [],
   "source": []
  },
  {
   "cell_type": "code",
   "execution_count": null,
   "id": "79b8cbbb",
   "metadata": {},
   "outputs": [],
   "source": []
  },
  {
   "cell_type": "code",
   "execution_count": null,
   "id": "feed8f8e",
   "metadata": {},
   "outputs": [],
   "source": []
  },
  {
   "cell_type": "code",
   "execution_count": null,
   "id": "2ea66999",
   "metadata": {},
   "outputs": [],
   "source": []
  },
  {
   "cell_type": "code",
   "execution_count": null,
   "id": "671791ca",
   "metadata": {},
   "outputs": [],
   "source": []
  },
  {
   "cell_type": "code",
   "execution_count": null,
   "id": "5ce74666",
   "metadata": {},
   "outputs": [],
   "source": []
  },
  {
   "cell_type": "code",
   "execution_count": null,
   "id": "540f8611",
   "metadata": {},
   "outputs": [],
   "source": []
  },
  {
   "cell_type": "code",
   "execution_count": null,
   "id": "80177bf4",
   "metadata": {},
   "outputs": [],
   "source": []
  },
  {
   "cell_type": "code",
   "execution_count": null,
   "id": "a0b2b59a",
   "metadata": {},
   "outputs": [],
   "source": []
  },
  {
   "cell_type": "code",
   "execution_count": null,
   "id": "164b100f",
   "metadata": {},
   "outputs": [],
   "source": []
  },
  {
   "cell_type": "code",
   "execution_count": null,
   "id": "bf9e1ff4",
   "metadata": {},
   "outputs": [],
   "source": []
  },
  {
   "cell_type": "code",
   "execution_count": null,
   "id": "29a08803",
   "metadata": {},
   "outputs": [],
   "source": []
  },
  {
   "cell_type": "code",
   "execution_count": null,
   "id": "e7e9247f",
   "metadata": {},
   "outputs": [],
   "source": []
  },
  {
   "cell_type": "code",
   "execution_count": null,
   "id": "ce3fa86e",
   "metadata": {},
   "outputs": [],
   "source": []
  },
  {
   "cell_type": "code",
   "execution_count": null,
   "id": "5d891241",
   "metadata": {},
   "outputs": [],
   "source": []
  },
  {
   "cell_type": "code",
   "execution_count": null,
   "id": "54781f00",
   "metadata": {},
   "outputs": [],
   "source": []
  },
  {
   "cell_type": "code",
   "execution_count": null,
   "id": "b0c078cd",
   "metadata": {},
   "outputs": [],
   "source": []
  },
  {
   "cell_type": "code",
   "execution_count": null,
   "id": "9eedc9eb",
   "metadata": {},
   "outputs": [],
   "source": []
  },
  {
   "cell_type": "code",
   "execution_count": null,
   "id": "becbb410",
   "metadata": {},
   "outputs": [],
   "source": []
  },
  {
   "cell_type": "code",
   "execution_count": null,
   "id": "2a7036f1",
   "metadata": {},
   "outputs": [],
   "source": []
  },
  {
   "cell_type": "code",
   "execution_count": null,
   "id": "8c876b1e",
   "metadata": {},
   "outputs": [],
   "source": []
  },
  {
   "cell_type": "code",
   "execution_count": null,
   "id": "52416d94",
   "metadata": {},
   "outputs": [],
   "source": []
  },
  {
   "cell_type": "code",
   "execution_count": null,
   "id": "1d87d954",
   "metadata": {},
   "outputs": [],
   "source": []
  },
  {
   "cell_type": "code",
   "execution_count": null,
   "id": "bf010ce0",
   "metadata": {},
   "outputs": [],
   "source": []
  },
  {
   "cell_type": "code",
   "execution_count": null,
   "id": "ec6e83ae",
   "metadata": {},
   "outputs": [],
   "source": []
  },
  {
   "cell_type": "code",
   "execution_count": null,
   "id": "f9c13d00",
   "metadata": {},
   "outputs": [],
   "source": []
  },
  {
   "cell_type": "code",
   "execution_count": null,
   "id": "cd615725",
   "metadata": {},
   "outputs": [],
   "source": []
  },
  {
   "cell_type": "code",
   "execution_count": null,
   "id": "a0a12094",
   "metadata": {},
   "outputs": [],
   "source": []
  },
  {
   "cell_type": "code",
   "execution_count": null,
   "id": "e22e5315",
   "metadata": {},
   "outputs": [],
   "source": []
  },
  {
   "cell_type": "code",
   "execution_count": null,
   "id": "33d9e9c2",
   "metadata": {},
   "outputs": [],
   "source": []
  },
  {
   "cell_type": "code",
   "execution_count": null,
   "id": "0e0e165d",
   "metadata": {},
   "outputs": [],
   "source": []
  },
  {
   "cell_type": "code",
   "execution_count": null,
   "id": "da2cec98",
   "metadata": {},
   "outputs": [],
   "source": []
  },
  {
   "cell_type": "code",
   "execution_count": null,
   "id": "2eef753d",
   "metadata": {},
   "outputs": [],
   "source": []
  },
  {
   "cell_type": "code",
   "execution_count": null,
   "id": "72446b4e",
   "metadata": {},
   "outputs": [],
   "source": []
  },
  {
   "cell_type": "code",
   "execution_count": null,
   "id": "86412c82",
   "metadata": {},
   "outputs": [],
   "source": []
  },
  {
   "cell_type": "code",
   "execution_count": null,
   "id": "d149ee6f",
   "metadata": {},
   "outputs": [],
   "source": []
  },
  {
   "cell_type": "code",
   "execution_count": null,
   "id": "5f1b0e65",
   "metadata": {},
   "outputs": [],
   "source": []
  },
  {
   "cell_type": "code",
   "execution_count": null,
   "id": "b6f25de2",
   "metadata": {},
   "outputs": [],
   "source": []
  },
  {
   "cell_type": "code",
   "execution_count": null,
   "id": "2654c297",
   "metadata": {},
   "outputs": [],
   "source": []
  },
  {
   "cell_type": "code",
   "execution_count": null,
   "id": "d2c07365",
   "metadata": {},
   "outputs": [],
   "source": []
  },
  {
   "cell_type": "code",
   "execution_count": null,
   "id": "d85fc2ae",
   "metadata": {},
   "outputs": [],
   "source": []
  },
  {
   "cell_type": "code",
   "execution_count": null,
   "id": "227cb81a",
   "metadata": {},
   "outputs": [],
   "source": []
  },
  {
   "cell_type": "code",
   "execution_count": null,
   "id": "7c953b9c",
   "metadata": {},
   "outputs": [],
   "source": []
  },
  {
   "cell_type": "code",
   "execution_count": null,
   "id": "e42fc69f",
   "metadata": {},
   "outputs": [],
   "source": []
  },
  {
   "cell_type": "code",
   "execution_count": null,
   "id": "c1c53e27",
   "metadata": {},
   "outputs": [],
   "source": []
  },
  {
   "cell_type": "code",
   "execution_count": null,
   "id": "2e950d0b",
   "metadata": {},
   "outputs": [],
   "source": []
  },
  {
   "cell_type": "code",
   "execution_count": null,
   "id": "c6143280",
   "metadata": {},
   "outputs": [],
   "source": []
  },
  {
   "cell_type": "code",
   "execution_count": null,
   "id": "ae22413f",
   "metadata": {},
   "outputs": [],
   "source": []
  },
  {
   "cell_type": "code",
   "execution_count": null,
   "id": "72d309ad",
   "metadata": {},
   "outputs": [],
   "source": []
  },
  {
   "cell_type": "code",
   "execution_count": null,
   "id": "16a87328",
   "metadata": {},
   "outputs": [],
   "source": []
  },
  {
   "cell_type": "code",
   "execution_count": null,
   "id": "bfd114f5",
   "metadata": {},
   "outputs": [],
   "source": []
  },
  {
   "cell_type": "code",
   "execution_count": null,
   "id": "b3fb3aab",
   "metadata": {},
   "outputs": [],
   "source": []
  },
  {
   "cell_type": "code",
   "execution_count": null,
   "id": "c01f3c2e",
   "metadata": {},
   "outputs": [],
   "source": []
  },
  {
   "cell_type": "code",
   "execution_count": null,
   "id": "6d193efc",
   "metadata": {},
   "outputs": [],
   "source": []
  },
  {
   "cell_type": "code",
   "execution_count": null,
   "id": "817ba72f",
   "metadata": {},
   "outputs": [],
   "source": []
  },
  {
   "cell_type": "code",
   "execution_count": null,
   "id": "92b8104b",
   "metadata": {},
   "outputs": [],
   "source": []
  },
  {
   "cell_type": "code",
   "execution_count": null,
   "id": "648364c9",
   "metadata": {},
   "outputs": [],
   "source": []
  },
  {
   "cell_type": "code",
   "execution_count": null,
   "id": "0405b3af",
   "metadata": {},
   "outputs": [],
   "source": []
  },
  {
   "cell_type": "code",
   "execution_count": null,
   "id": "37d68d8e",
   "metadata": {},
   "outputs": [],
   "source": []
  },
  {
   "cell_type": "code",
   "execution_count": null,
   "id": "57ea70f5",
   "metadata": {},
   "outputs": [],
   "source": []
  },
  {
   "cell_type": "code",
   "execution_count": null,
   "id": "17cc1ee9",
   "metadata": {},
   "outputs": [],
   "source": []
  },
  {
   "cell_type": "code",
   "execution_count": null,
   "id": "763f733c",
   "metadata": {},
   "outputs": [],
   "source": []
  },
  {
   "cell_type": "code",
   "execution_count": null,
   "id": "e07fad3a",
   "metadata": {},
   "outputs": [],
   "source": []
  },
  {
   "cell_type": "code",
   "execution_count": null,
   "id": "ec9ebf9d",
   "metadata": {},
   "outputs": [],
   "source": []
  },
  {
   "cell_type": "code",
   "execution_count": null,
   "id": "17a53f5d",
   "metadata": {},
   "outputs": [],
   "source": []
  },
  {
   "cell_type": "code",
   "execution_count": null,
   "id": "366630d0",
   "metadata": {},
   "outputs": [],
   "source": []
  },
  {
   "cell_type": "code",
   "execution_count": null,
   "id": "2b51fe1d",
   "metadata": {},
   "outputs": [],
   "source": []
  }
 ],
 "metadata": {
  "kernelspec": {
   "display_name": "Python 3 (ipykernel)",
   "language": "python",
   "name": "python3"
  },
  "language_info": {
   "codemirror_mode": {
    "name": "ipython",
    "version": 3
   },
   "file_extension": ".py",
   "mimetype": "text/x-python",
   "name": "python",
   "nbconvert_exporter": "python",
   "pygments_lexer": "ipython3",
   "version": "3.9.13"
  }
 },
 "nbformat": 4,
 "nbformat_minor": 5
}
